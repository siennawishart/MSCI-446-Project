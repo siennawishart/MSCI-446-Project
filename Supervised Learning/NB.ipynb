{
 "cells": [
  {
   "cell_type": "code",
   "execution_count": 3,
   "id": "9e3f3e30-8038-4160-9f61-539172737667",
   "metadata": {},
   "outputs": [],
   "source": [
    "from sklearn.naive_bayes import CategoricalNB, GaussianNB\n",
    "from sklearn.preprocessing import LabelEncoder\n",
    "from sklearn.model_selection import GridSearchCV\n",
    "from sklearn.model_selection import train_test_split\n",
    "from sklearn.metrics import accuracy_score,precision_score,recall_score,f1_score, confusion_matrix\n",
    "from mixed_naive_bayes import MixedNB\n",
    "\n",
    "import numpy as np\n",
    "import pandas as pd"
   ]
  },
  {
   "cell_type": "code",
   "execution_count": 18,
   "id": "9b551aca-f783-4374-b3aa-e21991641e14",
   "metadata": {},
   "outputs": [
    {
     "data": {
      "text/plain": [
       "Index(['Unnamed: 0', 'Rank', 'Major_code', 'Major', 'Major_category', 'Total',\n",
       "       'Sample_size', 'Men', 'Women', 'ShareWomen', 'Employed', 'Full_time',\n",
       "       'Part_time', 'Full_time_year_round', 'Unemployed', 'Unemployment_rate',\n",
       "       'Median', 'P25th', 'P75th', 'College_jobs', 'Non_college_jobs',\n",
       "       'Low_wage_jobs', 'Median_category', 'Num_majors', 'Percent_sample_size',\n",
       "       'Percent_employed', 'Percent_unemployed', 'Percent_college',\n",
       "       'Percent_non_college', 'Percent_low_wage', 'Percent_full_time',\n",
       "       'Percent_part_time', 'Major_category_Agriculture & Natural Resources',\n",
       "       'Major_category_Arts', 'Major_category_Biology & Life Science',\n",
       "       'Major_category_Business', 'Major_category_Communications & Journalism',\n",
       "       'Major_category_Computers & Mathematics', 'Major_category_Education',\n",
       "       'Major_category_Engineering', 'Major_category_Health',\n",
       "       'Major_category_Humanities & Liberal Arts',\n",
       "       'Major_category_Industrial Arts & Consumer Services',\n",
       "       'Major_category_Interdisciplinary',\n",
       "       'Major_category_Law & Public Policy',\n",
       "       'Major_category_Physical Sciences',\n",
       "       'Major_category_Psychology & Social Work',\n",
       "       'Major_category_Social Science'],\n",
       "      dtype='object')"
      ]
     },
     "execution_count": 18,
     "metadata": {},
     "output_type": "execute_result"
    }
   ],
   "source": [
    "# read in data\n",
    "df = pd.read_csv('../Data/Data Cleaning and Feature Eng/recent-grads-new-features.csv')\n",
    "df.head()\n",
    "df.columns"
   ]
  },
  {
   "cell_type": "code",
   "execution_count": 111,
   "id": "cc5422f9-2ea1-4c3f-aa60-28c14d246ea7",
   "metadata": {},
   "outputs": [],
   "source": [
    "# extract relevant features for supervised learning\n",
    "# 60, 74, 66, 72\n",
    "features = df[[\"Total\", \"Num_majors\", \"ShareWomen\", \"Percent_college\", \"Percent_non_college\", \"Percent_full_time\", \"Percent_sample_size\", \"Unemployment_rate\", \"Part_time\"]].copy()\n",
    "# 57, 48, 45\n",
    "# features = df[[\"Num_majors\", \"ShareWomen\", \"Percent_college\", \"Percent_non_college\", \"Percent_low_wage\", \"Percent_sample_size\", \"Unemployment_rate\", \"Part_time\"]].copy()\n",
    "\n",
    "features = df[[\n",
    "            'Num_majors',\n",
    "            'Percent_full_time',\n",
    "            'Percent_college',\n",
    "            'Percent_non_college',\n",
    "            'Percent_sample_size',\n",
    "            'ShareWomen',\n",
    "            'Unemployment_rate']].copy()\n",
    "\n",
    "## 37%\n",
    "# features = df[[\n",
    "#             'Num_majors',\n",
    "#             'Percent_full_time',\n",
    "#             'Percent_college',\n",
    "#             'Percent_non_college',\n",
    "#             'Percent_sample_size',\n",
    "#             'ShareWomen',\n",
    "#             'Unemployment_rate',\n",
    "#            'Major_category_Agriculture & Natural Resources',\n",
    "#            'Major_category_Arts', 'Major_category_Biology & Life Science',\n",
    "#            'Major_category_Business', 'Major_category_Communications & Journalism',\n",
    "#            'Major_category_Computers & Mathematics', 'Major_category_Education',\n",
    "#            'Major_category_Engineering', 'Major_category_Health',\n",
    "#            'Major_category_Humanities & Liberal Arts',\n",
    "#            'Major_category_Industrial Arts & Consumer Services',\n",
    "#            'Major_category_Interdisciplinary',\n",
    "#            'Major_category_Law & Public Policy',\n",
    "#            'Major_category_Physical Sciences',\n",
    "#            'Major_category_Psychology & Social Work',\n",
    "#            'Major_category_Social Science'\n",
    "#             ]].copy()\n",
    "\n",
    "# # extract predicted class variable\n",
    "# medians = df[[\"Median_category\"]]"
   ]
  },
  {
   "cell_type": "code",
   "execution_count": 112,
   "id": "1b896616-0953-4c51-b835-8904f6eeb172",
   "metadata": {},
   "outputs": [],
   "source": [
    "# encode predicted class variable as numerical label\n",
    "le = LabelEncoder()\n",
    "medians = le.fit_transform(df[\"Median_category\"])\n",
    "\n",
    "le2 = LabelEncoder()\n",
    "features[\"Major_category\"] = le2.fit_transform(df[\"Major_category\"])\n",
    "# le2.inverse_transform(features[\"Major_category\"])"
   ]
  },
  {
   "cell_type": "code",
   "execution_count": 113,
   "id": "ed3f978b-08f0-4e94-aa0d-a13a3d955308",
   "metadata": {},
   "outputs": [],
   "source": [
    "# split into train and test sets\n",
    "X_train, X_test, y_train, y_test = train_test_split(features, medians, test_size=0.2, random_state=42)"
   ]
  },
  {
   "cell_type": "code",
   "execution_count": 114,
   "id": "b6349b22-8605-4dc6-ac88-3094aa4e91ab",
   "metadata": {},
   "outputs": [
    {
     "data": {
      "text/plain": [
       "0.5714285714285714"
      ]
     },
     "execution_count": 114,
     "metadata": {},
     "output_type": "execute_result"
    }
   ],
   "source": [
    "### Categorical 60%\n",
    "naive_bayes = CategoricalNB()\n",
    "# fit categorical Naive Bayes model on training set\n",
    "naive_bayes.fit(X_train, y_train)\n",
    "# predict class variable on test set\n",
    "predictions = naive_bayes.predict(X_test)\n",
    "# generate accuracy score\n",
    "naive_bayes.score(X_test, y_test)"
   ]
  },
  {
   "cell_type": "code",
   "execution_count": 115,
   "id": "171d4d20-df7a-498d-aebc-98abfdf0c97d",
   "metadata": {},
   "outputs": [
    {
     "data": {
      "text/plain": [
       "0.5714285714285714"
      ]
     },
     "execution_count": 115,
     "metadata": {},
     "output_type": "execute_result"
    }
   ],
   "source": [
    "### Gaussian 68%\n",
    "VAR_SMOOTHING = 1\n",
    "\n",
    "naive_bayes = GaussianNB(var_smoothing=VAR_SMOOTHING)\n",
    "# fit gaussian Naive Bayes model on training set\n",
    "naive_bayes.fit(X_train, y_train)\n",
    "# predict class variable on test set\n",
    "predictions = naive_bayes.predict(X_test)\n",
    "# generate accuracy score\n",
    "naive_bayes.score(X_test, y_test)"
   ]
  },
  {
   "cell_type": "code",
   "execution_count": 116,
   "id": "84b25c75-ff4e-4459-9be2-e4b30229a408",
   "metadata": {},
   "outputs": [
    {
     "name": "stdout",
     "output_type": "stream",
     "text": [
      "[16]\n"
     ]
    },
    {
     "data": {
      "text/plain": [
       "0.4857142857142857"
      ]
     },
     "execution_count": 116,
     "metadata": {},
     "output_type": "execute_result"
    }
   ],
   "source": [
    "## Mixed Naive Bayes --> 60% accuracy\n",
    "## https://pypi.org/project/mixed-naive-bayes/#api-documentation\n",
    "## https://github.com/remykarem/mixed-naive-bayes\n",
    "\n",
    "# label_encoder = LabelEncoder()\n",
    "# mixedNB_y_train = label_encoder.fit_transform(y_train[\"Median_category\"])\n",
    "# mixedNB_y_test = label_encoder.transform(y_test[\"Median_category\"])\n",
    "\n",
    "# initalize mixed Naive Bayes model with column 0 designated as categorical feature\n",
    "mixedNB = MixedNB(categorical_features=[-1])\n",
    "# fit mixed Naive Bayes model on training set\n",
    "mixedNB.fit(X_train, y_train)\n",
    "# predict class variable on test set\n",
    "mixedNB_predictions = mixedNB.predict(X_test)\n",
    "# generate accuracy score\n",
    "mixedNB.score(X_test, y_test)\n",
    "# print(confusion_matrix(mixedNB_y_test, mixedNB_predictions), \": is the confusion matrix\")"
   ]
  },
  {
   "cell_type": "code",
   "execution_count": 117,
   "id": "e41149bd-9bd5-47b8-ba6d-5d3fa5c062a5",
   "metadata": {},
   "outputs": [
    {
     "name": "stdout",
     "output_type": "stream",
     "text": [
      "Fitting 10 folds for each of 100 candidates, totalling 1000 fits\n"
     ]
    },
    {
     "name": "stderr",
     "output_type": "stream",
     "text": [
      "/Users/amyjian/.pyenv/versions/3.8.1/envs/venv/lib/python3.8/site-packages/sklearn/model_selection/_split.py:676: UserWarning: The least populated class in y has only 1 members, which is less than n_splits=10.\n",
      "  warnings.warn(\n"
     ]
    },
    {
     "name": "stdout",
     "output_type": "stream",
     "text": [
      "[[ 0  2  0  0  0]\n",
      " [ 0 19  0  0  0]\n",
      " [ 0  3  0  1  0]\n",
      " [ 0  3  0  5  0]\n",
      " [ 0  0  0  2  0]] : is the confusion matrix\n"
     ]
    }
   ],
   "source": [
    "### param tuning, 68.7%\n",
    "### https://medium.com/analytics-vidhya/how-to-improve-naive-bayes-9fa698e14cba\n",
    "\n",
    "param_grid_nb = {\n",
    "    'var_smoothing': np.logspace(0,-9, num=100)\n",
    "}\n",
    "\n",
    "nbModel_grid = GridSearchCV(estimator=GaussianNB(), param_grid=param_grid_nb, verbose=1, cv=10, n_jobs=-1)\n",
    "nbModel_grid.fit(X_train, y_train)\n",
    "# print(nbModel_grid.best_estimator_)\n",
    "y_pred = nbModel_grid.predict(X_test)\n",
    "nbModel_grid.score(X_test, y_test)\n",
    "print(confusion_matrix(y_test, y_pred), \": is the confusion matrix\")\n"
   ]
  },
  {
   "cell_type": "code",
   "execution_count": 118,
   "id": "38a49f7a-3cc2-4834-81c4-71406b31e326",
   "metadata": {},
   "outputs": [
    {
     "data": {
      "text/plain": [
       "0.6857142857142857"
      ]
     },
     "execution_count": 118,
     "metadata": {},
     "output_type": "execute_result"
    }
   ],
   "source": [
    "nbModel_grid.score(X_test, y_test)"
   ]
  },
  {
   "cell_type": "code",
   "execution_count": null,
   "id": "723b3c30-494e-4877-98fb-56dd381a57f7",
   "metadata": {},
   "outputs": [],
   "source": []
  },
  {
   "cell_type": "code",
   "execution_count": null,
   "id": "85ce27a7",
   "metadata": {},
   "outputs": [],
   "source": []
  }
 ],
 "metadata": {
  "kernelspec": {
   "display_name": "Python 3 (ipykernel)",
   "language": "python",
   "name": "python3"
  },
  "language_info": {
   "codemirror_mode": {
    "name": "ipython",
    "version": 3
   },
   "file_extension": ".py",
   "mimetype": "text/x-python",
   "name": "python",
   "nbconvert_exporter": "python",
   "pygments_lexer": "ipython3",
   "version": "3.8.1"
  }
 },
 "nbformat": 4,
 "nbformat_minor": 5
}
