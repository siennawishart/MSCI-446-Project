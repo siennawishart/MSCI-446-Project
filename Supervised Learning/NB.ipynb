{
 "cells": [
  {
   "cell_type": "code",
   "execution_count": 80,
   "id": "9e3f3e30-8038-4160-9f61-539172737667",
   "metadata": {},
   "outputs": [],
   "source": [
    "from sklearn.naive_bayes import CategoricalNB, GaussianNB\n",
    "from sklearn.preprocessing import LabelEncoder\n",
    "from sklearn.model_selection import GridSearchCV\n",
    "from sklearn.model_selection import train_test_split\n",
    "from sklearn.metrics import accuracy_score, precision_score, recall_score, f1_score, confusion_matrix\n",
    "from mixed_naive_bayes import MixedNB\n",
    "\n",
    "import numpy as np\n",
    "import pandas as pd\n",
    "import matplotlib.pyplot as plt\n",
    "\n",
    "%matplotlib inline"
   ]
  },
  {
   "cell_type": "code",
   "execution_count": 4,
   "id": "9b551aca-f783-4374-b3aa-e21991641e14",
   "metadata": {},
   "outputs": [
    {
     "data": {
      "text/html": [
       "<div>\n",
       "<style scoped>\n",
       "    .dataframe tbody tr th:only-of-type {\n",
       "        vertical-align: middle;\n",
       "    }\n",
       "\n",
       "    .dataframe tbody tr th {\n",
       "        vertical-align: top;\n",
       "    }\n",
       "\n",
       "    .dataframe thead th {\n",
       "        text-align: right;\n",
       "    }\n",
       "</style>\n",
       "<table border=\"1\" class=\"dataframe\">\n",
       "  <thead>\n",
       "    <tr style=\"text-align: right;\">\n",
       "      <th></th>\n",
       "      <th>Unnamed: 0</th>\n",
       "      <th>Rank</th>\n",
       "      <th>Major_code</th>\n",
       "      <th>Major</th>\n",
       "      <th>Major_category</th>\n",
       "      <th>Total</th>\n",
       "      <th>Sample_size</th>\n",
       "      <th>Men</th>\n",
       "      <th>Women</th>\n",
       "      <th>ShareWomen</th>\n",
       "      <th>...</th>\n",
       "      <th>Major_category_Health</th>\n",
       "      <th>Major_category_Humanities &amp; Liberal Arts</th>\n",
       "      <th>Major_category_Industrial Arts &amp; Consumer Services</th>\n",
       "      <th>Major_category_Interdisciplinary</th>\n",
       "      <th>Major_category_Law &amp; Public Policy</th>\n",
       "      <th>Major_category_Physical Sciences</th>\n",
       "      <th>Major_category_Psychology &amp; Social Work</th>\n",
       "      <th>Major_category_Social Science</th>\n",
       "      <th>Major_category_coded</th>\n",
       "      <th>Median_category_coded</th>\n",
       "    </tr>\n",
       "  </thead>\n",
       "  <tbody>\n",
       "    <tr>\n",
       "      <th>0</th>\n",
       "      <td>0</td>\n",
       "      <td>1</td>\n",
       "      <td>2419</td>\n",
       "      <td>PETROLEUM ENGINEERING</td>\n",
       "      <td>Engineering</td>\n",
       "      <td>2339</td>\n",
       "      <td>36</td>\n",
       "      <td>2057</td>\n",
       "      <td>282</td>\n",
       "      <td>0.120564</td>\n",
       "      <td>...</td>\n",
       "      <td>0</td>\n",
       "      <td>0</td>\n",
       "      <td>0</td>\n",
       "      <td>0</td>\n",
       "      <td>0</td>\n",
       "      <td>0</td>\n",
       "      <td>0</td>\n",
       "      <td>0</td>\n",
       "      <td>7</td>\n",
       "      <td>0</td>\n",
       "    </tr>\n",
       "    <tr>\n",
       "      <th>1</th>\n",
       "      <td>1</td>\n",
       "      <td>2</td>\n",
       "      <td>2416</td>\n",
       "      <td>MINING AND MINERAL ENGINEERING</td>\n",
       "      <td>Engineering</td>\n",
       "      <td>756</td>\n",
       "      <td>7</td>\n",
       "      <td>679</td>\n",
       "      <td>77</td>\n",
       "      <td>0.101852</td>\n",
       "      <td>...</td>\n",
       "      <td>0</td>\n",
       "      <td>0</td>\n",
       "      <td>0</td>\n",
       "      <td>0</td>\n",
       "      <td>0</td>\n",
       "      <td>0</td>\n",
       "      <td>0</td>\n",
       "      <td>0</td>\n",
       "      <td>7</td>\n",
       "      <td>6</td>\n",
       "    </tr>\n",
       "    <tr>\n",
       "      <th>2</th>\n",
       "      <td>2</td>\n",
       "      <td>3</td>\n",
       "      <td>2415</td>\n",
       "      <td>METALLURGICAL ENGINEERING</td>\n",
       "      <td>Engineering</td>\n",
       "      <td>856</td>\n",
       "      <td>3</td>\n",
       "      <td>725</td>\n",
       "      <td>131</td>\n",
       "      <td>0.153037</td>\n",
       "      <td>...</td>\n",
       "      <td>0</td>\n",
       "      <td>0</td>\n",
       "      <td>0</td>\n",
       "      <td>0</td>\n",
       "      <td>0</td>\n",
       "      <td>0</td>\n",
       "      <td>0</td>\n",
       "      <td>0</td>\n",
       "      <td>7</td>\n",
       "      <td>6</td>\n",
       "    </tr>\n",
       "    <tr>\n",
       "      <th>3</th>\n",
       "      <td>3</td>\n",
       "      <td>4</td>\n",
       "      <td>2417</td>\n",
       "      <td>NAVAL ARCHITECTURE AND MARINE ENGINEERING</td>\n",
       "      <td>Engineering</td>\n",
       "      <td>1258</td>\n",
       "      <td>16</td>\n",
       "      <td>1123</td>\n",
       "      <td>135</td>\n",
       "      <td>0.107313</td>\n",
       "      <td>...</td>\n",
       "      <td>0</td>\n",
       "      <td>0</td>\n",
       "      <td>0</td>\n",
       "      <td>0</td>\n",
       "      <td>0</td>\n",
       "      <td>0</td>\n",
       "      <td>0</td>\n",
       "      <td>0</td>\n",
       "      <td>7</td>\n",
       "      <td>6</td>\n",
       "    </tr>\n",
       "    <tr>\n",
       "      <th>4</th>\n",
       "      <td>4</td>\n",
       "      <td>5</td>\n",
       "      <td>2405</td>\n",
       "      <td>CHEMICAL ENGINEERING</td>\n",
       "      <td>Engineering</td>\n",
       "      <td>32260</td>\n",
       "      <td>289</td>\n",
       "      <td>21239</td>\n",
       "      <td>11021</td>\n",
       "      <td>0.341631</td>\n",
       "      <td>...</td>\n",
       "      <td>0</td>\n",
       "      <td>0</td>\n",
       "      <td>0</td>\n",
       "      <td>0</td>\n",
       "      <td>0</td>\n",
       "      <td>0</td>\n",
       "      <td>0</td>\n",
       "      <td>0</td>\n",
       "      <td>7</td>\n",
       "      <td>5</td>\n",
       "    </tr>\n",
       "  </tbody>\n",
       "</table>\n",
       "<p>5 rows × 50 columns</p>\n",
       "</div>"
      ],
      "text/plain": [
       "   Unnamed: 0  Rank  Major_code                                      Major  \\\n",
       "0           0     1        2419                      PETROLEUM ENGINEERING   \n",
       "1           1     2        2416             MINING AND MINERAL ENGINEERING   \n",
       "2           2     3        2415                  METALLURGICAL ENGINEERING   \n",
       "3           3     4        2417  NAVAL ARCHITECTURE AND MARINE ENGINEERING   \n",
       "4           4     5        2405                       CHEMICAL ENGINEERING   \n",
       "\n",
       "  Major_category  Total  Sample_size    Men  Women  ShareWomen  ...  \\\n",
       "0    Engineering   2339           36   2057    282    0.120564  ...   \n",
       "1    Engineering    756            7    679     77    0.101852  ...   \n",
       "2    Engineering    856            3    725    131    0.153037  ...   \n",
       "3    Engineering   1258           16   1123    135    0.107313  ...   \n",
       "4    Engineering  32260          289  21239  11021    0.341631  ...   \n",
       "\n",
       "   Major_category_Health  Major_category_Humanities & Liberal Arts  \\\n",
       "0                      0                                         0   \n",
       "1                      0                                         0   \n",
       "2                      0                                         0   \n",
       "3                      0                                         0   \n",
       "4                      0                                         0   \n",
       "\n",
       "   Major_category_Industrial Arts & Consumer Services  \\\n",
       "0                                                  0    \n",
       "1                                                  0    \n",
       "2                                                  0    \n",
       "3                                                  0    \n",
       "4                                                  0    \n",
       "\n",
       "   Major_category_Interdisciplinary  Major_category_Law & Public Policy  \\\n",
       "0                                 0                                   0   \n",
       "1                                 0                                   0   \n",
       "2                                 0                                   0   \n",
       "3                                 0                                   0   \n",
       "4                                 0                                   0   \n",
       "\n",
       "   Major_category_Physical Sciences  Major_category_Psychology & Social Work  \\\n",
       "0                                 0                                        0   \n",
       "1                                 0                                        0   \n",
       "2                                 0                                        0   \n",
       "3                                 0                                        0   \n",
       "4                                 0                                        0   \n",
       "\n",
       "   Major_category_Social Science  Major_category_coded  Median_category_coded  \n",
       "0                              0                     7                      0  \n",
       "1                              0                     7                      6  \n",
       "2                              0                     7                      6  \n",
       "3                              0                     7                      6  \n",
       "4                              0                     7                      5  \n",
       "\n",
       "[5 rows x 50 columns]"
      ]
     },
     "execution_count": 4,
     "metadata": {},
     "output_type": "execute_result"
    }
   ],
   "source": [
    "# read in data\n",
    "data = pd.read_csv('../Data/Data Cleaning and Feature Eng/recent-grads-new-features.csv')\n",
    "\n",
    "# encode categorical column to numerical value\n",
    "le = LabelEncoder()\n",
    "data[\"Major_category_coded\"] = le.fit_transform(data[\"Major_category\"])\n",
    "\n",
    "# encode predicted class variable as numerical label\n",
    "le = LabelEncoder()\n",
    "data[\"Median_category_coded\"] = le.fit_transform(data[\"Median_category\"])\n",
    "\n",
    "data.head()"
   ]
  },
  {
   "cell_type": "code",
   "execution_count": 6,
   "id": "41c097e8-f3d7-442f-bba2-591cd9c421d1",
   "metadata": {},
   "outputs": [],
   "source": [
    "# split into train and test set\n",
    "train, test = train_test_split(data,test_size=0.2, random_state=42)"
   ]
  },
  {
   "cell_type": "markdown",
   "id": "8e11c17b-f0c5-436e-b092-0b2f6f9ca885",
   "metadata": {},
   "source": [
    "## Experiment 1: All features"
   ]
  },
  {
   "cell_type": "code",
   "execution_count": 8,
   "id": "1e6ac428-ff72-4651-afce-e3e6e4398cf8",
   "metadata": {},
   "outputs": [],
   "source": [
    "features = ['Major_category_coded', 'Total',\n",
    "       'Sample_size', 'Men', 'Women', 'ShareWomen', 'Employed', 'Full_time',\n",
    "       'Part_time', 'Full_time_year_round', 'Unemployed', 'Unemployment_rate',\n",
    "       'College_jobs', 'Non_college_jobs',\n",
    "       'Low_wage_jobs', 'Num_majors', 'Percent_sample_size',\n",
    "       'Percent_employed', 'Percent_unemployed', 'Percent_college',\n",
    "       'Percent_non_college', 'Percent_low_wage', 'Percent_full_time']"
   ]
  },
  {
   "cell_type": "code",
   "execution_count": 9,
   "id": "b3f583c4-9fae-4911-a21d-024292ad844a",
   "metadata": {},
   "outputs": [],
   "source": [
    "X_train = train[features]\n",
    "y_train = train['Median_category_coded']\n",
    "\n",
    "X_test = test[features]\n",
    "y_test = test['Median_category_coded']"
   ]
  },
  {
   "cell_type": "code",
   "execution_count": 15,
   "id": "850476de-1c2b-4fea-9aa7-c98082eae727",
   "metadata": {},
   "outputs": [
    {
     "data": {
      "text/plain": [
       "0.34285714285714286"
      ]
     },
     "execution_count": 15,
     "metadata": {},
     "output_type": "execute_result"
    }
   ],
   "source": [
    "## Gaussian\n",
    "\n",
    "# initialize Gaussian NB model\n",
    "naive_bayes = GaussianNB()\n",
    "\n",
    "# fit gaussian Naive Bayes model on training set\n",
    "naive_bayes.fit(X_train, y_train)\n",
    "\n",
    "# predict class variable on test set\n",
    "predictions = naive_bayes.predict(X_test)\n",
    "\n",
    "# generate accuracy score\n",
    "naive_bayes.score(X_test, y_test)"
   ]
  },
  {
   "cell_type": "code",
   "execution_count": null,
   "id": "48b0b39c-d1a6-426f-af37-534e6177ea17",
   "metadata": {},
   "outputs": [],
   "source": [
    "## Categorical NB was not performed for Experiment 1"
   ]
  },
  {
   "cell_type": "code",
   "execution_count": 21,
   "id": "b691b464-d457-414d-a231-d8623f86c451",
   "metadata": {},
   "outputs": [
    {
     "data": {
      "text/plain": [
       "0.37142857142857144"
      ]
     },
     "execution_count": 21,
     "metadata": {},
     "output_type": "execute_result"
    }
   ],
   "source": [
    "## Mixed Naive Bayes\n",
    "\n",
    "# initalize mixed Naive Bayes model with column 0 (Major_category_coded) designated as categorical feature\n",
    "mixedNB = MixedNB(categorical_features=[0])\n",
    "\n",
    "# fit mixed Naive Bayes model on training set\n",
    "mixedNB.fit(X_train, y_train)\n",
    "\n",
    "# predict class variable on test set\n",
    "mixedNB_predictions = mixedNB.predict(X_test)\n",
    "\n",
    "# generate accuracy score\n",
    "mixedNB.score(X_test, y_test)\n"
   ]
  },
  {
   "cell_type": "code",
   "execution_count": 23,
   "id": "a779fe1c-1c03-4059-801d-4a9650f33dd2",
   "metadata": {},
   "outputs": [],
   "source": [
    "# GridSearchCV was not performed in the intial experiment as parameter optimization was not part of this experiment\n"
   ]
  },
  {
   "cell_type": "code",
   "execution_count": null,
   "id": "a98dc3bb-30b1-4e1b-9ee7-c41e5226e255",
   "metadata": {},
   "outputs": [],
   "source": [
    "## Experiment 2: Reduced feature set"
   ]
  },
  {
   "cell_type": "code",
   "execution_count": 44,
   "id": "b5ba90eb-fa36-4bfb-8350-7306837cdf50",
   "metadata": {},
   "outputs": [],
   "source": [
    "features = ['Major_category_coded',\n",
    "            'Num_majors',\n",
    "            'Percent_full_time',\n",
    "            'Percent_college',\n",
    "            'Percent_non_college',\n",
    "            'Percent_sample_size',\n",
    "            'ShareWomen',\n",
    "            'Unemployment_rate']"
   ]
  },
  {
   "cell_type": "code",
   "execution_count": 45,
   "id": "4d1a3b20-d26d-424f-9101-32297e4b2cc8",
   "metadata": {},
   "outputs": [],
   "source": [
    "X_train = train[features]\n",
    "y_train = train['Median_category_coded']\n",
    "\n",
    "X_test = test[features]\n",
    "y_test = test['Median_category_coded']"
   ]
  },
  {
   "cell_type": "code",
   "execution_count": 64,
   "id": "49433b95-fd41-4e5b-b3da-9e16ab4a7260",
   "metadata": {},
   "outputs": [
    {
     "data": {
      "text/plain": [
       "0.6857142857142857"
      ]
     },
     "execution_count": 64,
     "metadata": {},
     "output_type": "execute_result"
    }
   ],
   "source": [
    "## Gaussian\n",
    "\n",
    "# initialize Gaussian NB model\n",
    "naive_bayes = GaussianNB()\n",
    "\n",
    "# fit gaussian Naive Bayes model on training set\n",
    "naive_bayes.fit(X_train, y_train)\n",
    "\n",
    "# predict class variable on test set\n",
    "predictions = naive_bayes.predict(X_test)\n",
    "\n",
    "# generate accuracy score\n",
    "naive_bayes.score(X_test, y_test)"
   ]
  },
  {
   "cell_type": "code",
   "execution_count": 60,
   "id": "fd8bbb01-1e67-4702-bd7f-8f83900e3bc4",
   "metadata": {},
   "outputs": [
    {
     "data": {
      "text/plain": [
       "0.5714285714285714"
      ]
     },
     "execution_count": 60,
     "metadata": {},
     "output_type": "execute_result"
    }
   ],
   "source": [
    "### Categorical\n",
    "\n",
    "naive_bayes = CategoricalNB()\n",
    "# fit categorical Naive Bayes model on training set\n",
    "naive_bayes.fit(X_train, y_train)\n",
    "# predict class variable on test set\n",
    "predictions = naive_bayes.predict(X_test)\n",
    "# generate accuracy score\n",
    "naive_bayes.score(X_test, y_test)"
   ]
  },
  {
   "cell_type": "code",
   "execution_count": 48,
   "id": "2deb8e7d-6436-4214-8f4b-b2386069815a",
   "metadata": {},
   "outputs": [
    {
     "data": {
      "text/plain": [
       "0.4857142857142857"
      ]
     },
     "execution_count": 48,
     "metadata": {},
     "output_type": "execute_result"
    }
   ],
   "source": [
    "## Mixed Naive Bayes\n",
    "\n",
    "# initalize mixed Naive Bayes model with column 0 (Major_category_coded) designated as categorical feature\n",
    "mixedNB = MixedNB(categorical_features=[0])\n",
    "\n",
    "# fit mixed Naive Bayes model on training set\n",
    "mixedNB.fit(X_train, y_train)\n",
    "\n",
    "# predict class variable on test set\n",
    "mixedNB_predictions = mixedNB.predict(X_test)\n",
    "\n",
    "# generate accuracy score\n",
    "mixedNB.score(X_test, y_test)\n"
   ]
  },
  {
   "cell_type": "code",
   "execution_count": null,
   "id": "c523c20b-99b2-4ff2-847a-2db005c6a1f1",
   "metadata": {},
   "outputs": [],
   "source": [
    "# GridSearchCV was not performed in the intial experiment as parameter optimization was not part of this experiment\n"
   ]
  },
  {
   "cell_type": "code",
   "execution_count": null,
   "id": "0510f80a-9850-4c70-9ef4-5058ec597bb3",
   "metadata": {},
   "outputs": [],
   "source": [
    "## Experiment 3: Parameter tuning"
   ]
  },
  {
   "cell_type": "code",
   "execution_count": null,
   "id": "43969bf8-f501-4020-989c-505f81c47f9d",
   "metadata": {},
   "outputs": [],
   "source": [
    "# The same feature set was used as in Experiment 2"
   ]
  },
  {
   "cell_type": "code",
   "execution_count": 58,
   "id": "47ecab4e-071c-421e-91b7-06b69b0a3bff",
   "metadata": {},
   "outputs": [
    {
     "data": {
      "text/plain": [
       "0.6857142857142857"
      ]
     },
     "execution_count": 58,
     "metadata": {},
     "output_type": "execute_result"
    }
   ],
   "source": [
    "# Manual tuning of GaussianNB did not yield any improvements"
   ]
  },
  {
   "cell_type": "code",
   "execution_count": 86,
   "id": "799bbeca-e5b1-43ee-8401-9cc4b7fe2a94",
   "metadata": {},
   "outputs": [
    {
     "name": "stdout",
     "output_type": "stream",
     "text": [
      "Gaussian Test Accuracy var_smoothing= 1e-20 ---->  0.5142857142857142\n",
      "Gaussian Test Accuracy var_smoothing= 1e-10 ---->  0.5714285714285714\n",
      "Gaussian Test Accuracy var_smoothing= 1e-05 ---->  0.5428571428571428\n",
      "Gaussian Test Accuracy var_smoothing= 1 ---->  0.5714285714285714\n",
      "Gaussian Test Accuracy var_smoothing= 10 ---->  0.5428571428571428\n",
      "Gaussian Test Accuracy var_smoothing= 100 ---->  0.5428571428571428\n",
      "Gaussian Test Accuracy var_smoothing= 1000 ---->  0.5428571428571428\n",
      "CategoricalNB Test Accuracy alpha= 1  ---->  0.5714285714285714\n",
      "CategoricalNB Test Accuracy alpha= 3  ---->  0.6\n",
      "CategoricalNB Test Accuracy alpha= 5  ---->  0.4857142857142857\n",
      "CategoricalNB Test Accuracy alpha= 7  ---->  0.4857142857142857\n",
      "CategoricalNB Test Accuracy alpha= 9  ---->  0.4857142857142857\n",
      "CategoricalNB Test Accuracy alpha= 11  ---->  0.4857142857142857\n",
      "CategoricalNB Test Accuracy alpha= 13  ---->  0.4857142857142857\n",
      "CategoricalNB Test Accuracy alpha= 15  ---->  0.4857142857142857\n",
      "CategoricalNB Test Accuracy alpha= 17  ---->  0.45714285714285713\n",
      "CategoricalNB Test Accuracy alpha= 19  ---->  0.5428571428571428\n"
     ]
    }
   ],
   "source": [
    "# Code used to test different parameter values with GaussianNB and CategoricalNB\n",
    "\n",
    "GAUSSIAN_PARAMS = [1e-20, 1e-10, 1e-5, 1, 10, 100, 1000]\n",
    "CATEGORICAL_PARAMS = list(range(1, 20, 2))\n",
    "ACCURACY_SCORES_GAUSSIAN = []\n",
    "ACCURACY_SCORES_CATEGORICAL = []\n",
    "\n",
    "for param in GAUSSIAN_PARAMS:\n",
    "    # initialize Gaussian NB model\n",
    "    naive_bayes = GaussianNB(var_smoothing=param)\n",
    "\n",
    "    # fit gaussian Naive Bayes model on training set\n",
    "    naive_bayes.fit(X_train, y_train)\n",
    "\n",
    "    # predict class variable on test set\n",
    "    predictions = naive_bayes.predict(X_test)\n",
    "\n",
    "    # generate accuracy score\n",
    "    score = naive_bayes.score(X_test, y_test)\n",
    "    print(\"Gaussian Test Accuracy var_smoothing=\", param, \"----> \", score )\n",
    "\n",
    "    ACCURACY_SCORES_GAUSSIAN.append(score)\n",
    "    \n",
    "for param in CATEGORICAL_PARAMS:\n",
    "    \n",
    "    naive_bayes = CategoricalNB(alpha=param)\n",
    "    # fit categorical Naive Bayes model on training set\n",
    "    naive_bayes.fit(X_train, y_train)\n",
    "    # predict class variable on test set\n",
    "    predictions = naive_bayes.predict(X_test)\n",
    "    # generate accuracy score\n",
    "    score = naive_bayes.score(X_test, y_test)\n",
    "\n",
    "    print(\"CategoricalNB Test Accuracy alpha=\", param, \" ----> \", score )\n",
    "    ACCURACY_SCORES_CATEGORICAL.append(score)"
   ]
  },
  {
   "cell_type": "code",
   "execution_count": 83,
   "id": "c2006b79-3035-47b3-a914-cfe3ca5435a5",
   "metadata": {},
   "outputs": [
    {
     "data": {
      "image/png": "[encoded data removed]",
      "text/plain": [
       "<Figure size 576x360 with 1 Axes>"
      ]
     },
     "metadata": {
      "needs_background": "light"
     },
     "output_type": "display_data"
    }
   ],
   "source": [
    "# generate tuning plot\n",
    "\n",
    "plt.figure(figsize=(8, 5))  \n",
    "plt.plot(GAUSSIAN_PARAMS, ACCURACY_SCORES_GAUSSIAN, label=\"GaussianNB\")\n",
    "plt.xlabel(\"var_smoothing (GaussianNB)\")\n",
    "plt.ylabel(\"Accuracy Score\")\n",
    "plt.title(\"GaussianNB tuning\")\n",
    "plt.legend(loc=\"upper right\")\n",
    "\n",
    "plt.show()"
   ]
  },
  {
   "cell_type": "code",
   "execution_count": 82,
   "id": "7296efc4-ced7-40e6-946e-fbaa5ea93e92",
   "metadata": {},
   "outputs": [
    {
     "data": {
      "image/png": "[encoded data removed]",
      "text/plain": [
       "<Figure size 576x360 with 1 Axes>"
      ]
     },
     "metadata": {
      "needs_background": "light"
     },
     "output_type": "display_data"
    }
   ],
   "source": [
    "# generate tuning plot\n",
    "\n",
    "plt.figure(figsize=(8, 5))  \n",
    "plt.plot(CATEGORICAL_PARAMS, ACCURACY_SCORES_CATEGORICAL, label=\"CategoricalNB\")\n",
    "plt.xlabel(\"alpha (CategoricalNB)\")\n",
    "plt.ylabel(\"Accuracy Score\")\n",
    "plt.title(\" CategoricalNB tuning\")\n",
    "plt.legend(loc=\"upper right\")\n",
    "\n",
    "plt.show()"
   ]
  },
  {
   "cell_type": "code",
   "execution_count": null,
   "id": "a7590ea4-2cf8-476a-a92e-f7a479453872",
   "metadata": {},
   "outputs": [],
   "source": [
    "## MixedNB does not have parameters for tuning"
   ]
  },
  {
   "cell_type": "code",
   "execution_count": 53,
   "id": "b419584e-907c-4313-ae63-4bd60901e6c1",
   "metadata": {},
   "outputs": [
    {
     "name": "stdout",
     "output_type": "stream",
     "text": [
      "Fitting 10 folds for each of 100 candidates, totalling 1000 fits\n"
     ]
    },
    {
     "name": "stderr",
     "output_type": "stream",
     "text": [
      "/home/awjian/.local/lib/python3.7/site-packages/sklearn/model_selection/_split.py:680: UserWarning: The least populated class in y has only 1 members, which is less than n_splits=10.\n",
      "  UserWarning,\n"
     ]
    },
    {
     "name": "stdout",
     "output_type": "stream",
     "text": [
      "GaussianNB(var_smoothing=0.657933224657568)\n"
     ]
    },
    {
     "data": {
      "text/plain": [
       "0.6857142857142857"
      ]
     },
     "execution_count": 53,
     "metadata": {},
     "output_type": "execute_result"
    }
   ],
   "source": [
    "## GridSearchCV - GaussianNB\n",
    "\n",
    "param_grid_nb = {\n",
    "    'var_smoothing': np.logspace(0,-9, num=100)\n",
    "}\n",
    "\n",
    "grid_search_cv = GridSearchCV(estimator=GaussianNB(), param_grid=param_grid_nb, verbose=1, cv=10, n_jobs=-1)\n",
    "grid_search_cv.fit(X_train, y_train)\n",
    "\n",
    "y_pred = nbModel_grid.predict(X_test)\n",
    "grid_search_cv.score(X_test, y_test)\n",
    "print(\"Best estimator: \", grid_search_cv.best_estimator_)\n",
    "grid_search_cv.score(X_test, y_test)"
   ]
  },
  {
   "cell_type": "code",
   "execution_count": 67,
   "id": "7d162568-a3c0-4a3d-b666-d0af59b79801",
   "metadata": {},
   "outputs": [
    {
     "name": "stdout",
     "output_type": "stream",
     "text": [
      "Fitting 10 folds for each of 50 candidates, totalling 500 fits\n"
     ]
    },
    {
     "name": "stderr",
     "output_type": "stream",
     "text": [
      "/home/awjian/.local/lib/python3.7/site-packages/sklearn/model_selection/_split.py:680: UserWarning: The least populated class in y has only 1 members, which is less than n_splits=10.\n",
      "  UserWarning,\n"
     ]
    },
    {
     "name": "stdout",
     "output_type": "stream",
     "text": [
      "Best estimator:  CategoricalNB(alpha=8)\n"
     ]
    },
    {
     "data": {
      "text/plain": [
       "0.4857142857142857"
      ]
     },
     "execution_count": 67,
     "metadata": {},
     "output_type": "execute_result"
    }
   ],
   "source": [
    "## GridSearchCV - CategoricalNB\n",
    "\n",
    "param_grid_nb = {\n",
    "    'alpha': list(range(0,50))\n",
    "}\n",
    "\n",
    "grid_search_cv = GridSearchCV(estimator=CategoricalNB(), param_grid=param_grid_nb, verbose=1, cv=10, n_jobs=-1)\n",
    "grid_search_cv.fit(X_train, y_train)\n",
    "\n",
    "y_pred = nbModel_grid.predict(X_test)\n",
    "grid_search_cv.score(X_test, y_test)\n",
    "\n",
    "print(\"Best estimator: \", grid_search_cv.best_estimator_)\n",
    "grid_search_cv.score(X_test, y_test)\n"
   ]
  },
  {
   "cell_type": "code",
   "execution_count": null,
   "id": "d3133f4a",
   "metadata": {},
   "outputs": [],
   "source": []
  }
 ],
 "metadata": {
  "kernelspec": {
   "display_name": "Python 3",
   "language": "python",
   "name": "python3"
  },
  "language_info": {
   "codemirror_mode": {
    "name": "ipython",
    "version": 3
   },
   "file_extension": ".py",
   "mimetype": "text/x-python",
   "name": "python",
   "nbconvert_exporter": "python",
   "pygments_lexer": "ipython3",
   "version": "3.7.10"
  }
 },
 "nbformat": 4,
 "nbformat_minor": 5
}
