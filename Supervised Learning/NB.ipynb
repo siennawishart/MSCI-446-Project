{
 "cells": [
  {
   "cell_type": "code",
   "execution_count": 3,
   "id": "9e3f3e30-8038-4160-9f61-539172737667",
   "metadata": {},
   "outputs": [],
   "source": [
    "from sklearn.naive_bayes import CategoricalNB, GaussianNB\n",
    "from sklearn.preprocessing import LabelEncoder\n",
    "from sklearn.model_selection import GridSearchCV\n",
    "from sklearn.model_selection import train_test_split\n",
    "from sklearn.metrics import accuracy_score, precision_score, recall_score, f1_score, confusion_matrix\n",
    "from mixed_naive_bayes import MixedNB\n",
    "\n",
    "import numpy as np\n",
    "import pandas as pd"
   ]
  },
  {
   "cell_type": "code",
   "execution_count": 215,
   "id": "9b551aca-f783-4374-b3aa-e21991641e14",
   "metadata": {},
   "outputs": [
    {
     "data": {
      "text/plain": [
       "Index(['Unnamed: 0', 'Rank', 'Major_code', 'Major', 'Major_category', 'Total',\n",
       "       'Sample_size', 'Men', 'Women', 'ShareWomen', 'Employed', 'Full_time',\n",
       "       'Part_time', 'Full_time_year_round', 'Unemployed', 'Unemployment_rate',\n",
       "       'Median', 'P25th', 'P75th', 'College_jobs', 'Non_college_jobs',\n",
       "       'Low_wage_jobs', 'Median_category', 'Num_majors', 'Percent_sample_size',\n",
       "       'Percent_employed', 'Percent_unemployed', 'Percent_college',\n",
       "       'Percent_non_college', 'Percent_low_wage', 'Percent_full_time',\n",
       "       'Percent_part_time', 'Major_category_Agriculture & Natural Resources',\n",
       "       'Major_category_Arts', 'Major_category_Biology & Life Science',\n",
       "       'Major_category_Business', 'Major_category_Communications & Journalism',\n",
       "       'Major_category_Computers & Mathematics', 'Major_category_Education',\n",
       "       'Major_category_Engineering', 'Major_category_Health',\n",
       "       'Major_category_Humanities & Liberal Arts',\n",
       "       'Major_category_Industrial Arts & Consumer Services',\n",
       "       'Major_category_Interdisciplinary',\n",
       "       'Major_category_Law & Public Policy',\n",
       "       'Major_category_Physical Sciences',\n",
       "       'Major_category_Psychology & Social Work',\n",
       "       'Major_category_Social Science'],\n",
       "      dtype='object')"
      ]
     },
     "execution_count": 215,
     "metadata": {},
     "output_type": "execute_result"
    }
   ],
   "source": [
    "# read in data\n",
    "df = pd.read_csv('../Data/Data Cleaning and Feature Eng/recent-grads-new-features.csv')\n",
    "df.head()\n",
    "df.columns"
   ]
  },
  {
   "cell_type": "code",
   "execution_count": 230,
   "id": "cc5422f9-2ea1-4c3f-aa60-28c14d246ea7",
   "metadata": {},
   "outputs": [],
   "source": [
    "# extract relevant features for supervised learning\n",
    "# 60, 74, 66, 72\n",
    "# features = df[[\"Total\", \"Num_majors\", \"ShareWomen\", \"Percent_college\", \"Percent_non_college\", \"Percent_full_time\", \"Percent_sample_size\", \"Unemployment_rate\", \"Part_time\"]].copy()\n",
    "# 57, 48, 45\n",
    "# features = df[[\"Num_majors\", \"ShareWomen\", \"Percent_college\", \"Percent_non_college\", \"Percent_low_wage\", \"Percent_sample_size\", \"Unemployment_rate\", \"Part_time\"]].copy()\n",
    "\n",
    "features = df[[\n",
    "            'Num_majors',\n",
    "            'Percent_full_time',\n",
    "            'Percent_college',\n",
    "            'Percent_non_college',\n",
    "            'Percent_sample_size',\n",
    "            'ShareWomen',\n",
    "            'Unemployment_rate']].copy()\n",
    "\n",
    "## 37%\n",
    "# features = df[[\n",
    "#             'Num_majors',\n",
    "#             'Percent_full_time',\n",
    "#             'Percent_college',\n",
    "#             'Percent_non_college',\n",
    "#             'Percent_sample_size',\n",
    "#             'ShareWomen',\n",
    "#             'Unemployment_rate',\n",
    "#            'Major_category_Agriculture & Natural Resources',\n",
    "#            'Major_category_Arts', 'Major_category_Biology & Life Science',\n",
    "#            'Major_category_Business', 'Major_category_Communications & Journalism',\n",
    "#            'Major_category_Computers & Mathematics', 'Major_category_Education',\n",
    "#            'Major_category_Engineering', 'Major_category_Health',\n",
    "#            'Major_category_Humanities & Liberal Arts',\n",
    "#            'Major_category_Industrial Arts & Consumer Services',\n",
    "#            'Major_category_Interdisciplinary',\n",
    "#            'Major_category_Law & Public Policy',\n",
    "#            'Major_category_Physical Sciences',\n",
    "#            'Major_category_Psychology & Social Work',\n",
    "#            'Major_category_Social Science'\n",
    "#             ]].copy()]\n",
    "\n",
    "all_features = df[['Total',\n",
    "       'Sample_size', 'Men', 'Women', 'ShareWomen', 'Employed', 'Full_time',\n",
    "       'Part_time', 'Full_time_year_round', 'Unemployed', 'Unemployment_rate',\n",
    "       'College_jobs', 'Non_college_jobs',\n",
    "       'Num_majors', 'Percent_sample_size',\n",
    "       'Percent_employed', 'Percent_unemployed', 'Percent_college',\n",
    "       'Percent_non_college', 'Percent_low_wage', 'Percent_full_time']].copy()\n",
    "\n",
    "# # extract predicted class variable\n",
    "# medians = df[[\"Median_category\"]]"
   ]
  },
  {
   "cell_type": "code",
   "execution_count": 293,
   "id": "1b896616-0953-4c51-b835-8904f6eeb172",
   "metadata": {},
   "outputs": [],
   "source": [
    "# encode predicted class variable as numerical label\n",
    "le = LabelEncoder()\n",
    "medians = le.fit_transform(df[\"Median_category\"])\n",
    "\n",
    "le2 = LabelEncoder()\n",
    "features[\"Major_category\"] = le2.fit_transform(df[\"Major_category\"])\n",
    "# le2.inverse_transform(features[\"Major_category\"])"
   ]
  },
  {
   "cell_type": "code",
   "execution_count": 294,
   "id": "ed3f978b-08f0-4e94-aa0d-a13a3d955308",
   "metadata": {},
   "outputs": [],
   "source": [
    "# split into train and test sets\n",
    "X_train, X_test, y_train, y_test = train_test_split(features, medians, test_size=0.2, random_state=42)"
   ]
  },
  {
   "cell_type": "code",
   "execution_count": 295,
   "id": "f7fe13dc",
   "metadata": {},
   "outputs": [
    {
     "data": {
      "text/html": [
       "<div>\n",
       "<style scoped>\n",
       "    .dataframe tbody tr th:only-of-type {\n",
       "        vertical-align: middle;\n",
       "    }\n",
       "\n",
       "    .dataframe tbody tr th {\n",
       "        vertical-align: top;\n",
       "    }\n",
       "\n",
       "    .dataframe thead th {\n",
       "        text-align: right;\n",
       "    }\n",
       "</style>\n",
       "<table border=\"1\" class=\"dataframe\">\n",
       "  <thead>\n",
       "    <tr style=\"text-align: right;\">\n",
       "      <th></th>\n",
       "      <th>Num_majors</th>\n",
       "      <th>Percent_full_time</th>\n",
       "      <th>Percent_college</th>\n",
       "      <th>Percent_non_college</th>\n",
       "      <th>Percent_sample_size</th>\n",
       "      <th>ShareWomen</th>\n",
       "      <th>Unemployment_rate</th>\n",
       "      <th>Major_category</th>\n",
       "    </tr>\n",
       "  </thead>\n",
       "  <tbody>\n",
       "    <tr>\n",
       "      <th>0</th>\n",
       "      <td>29.0</td>\n",
       "      <td>0.790509</td>\n",
       "      <td>0.655836</td>\n",
       "      <td>0.155622</td>\n",
       "      <td>0.015391</td>\n",
       "      <td>0.120564</td>\n",
       "      <td>0.018381</td>\n",
       "      <td>7</td>\n",
       "    </tr>\n",
       "    <tr>\n",
       "      <th>1</th>\n",
       "      <td>29.0</td>\n",
       "      <td>0.735450</td>\n",
       "      <td>0.462963</td>\n",
       "      <td>0.339947</td>\n",
       "      <td>0.009259</td>\n",
       "      <td>0.101852</td>\n",
       "      <td>0.117241</td>\n",
       "      <td>7</td>\n",
       "    </tr>\n",
       "    <tr>\n",
       "      <th>2</th>\n",
       "      <td>29.0</td>\n",
       "      <td>0.651869</td>\n",
       "      <td>0.532710</td>\n",
       "      <td>0.205607</td>\n",
       "      <td>0.003505</td>\n",
       "      <td>0.153037</td>\n",
       "      <td>0.024096</td>\n",
       "      <td>7</td>\n",
       "    </tr>\n",
       "    <tr>\n",
       "      <th>3</th>\n",
       "      <td>29.0</td>\n",
       "      <td>0.849762</td>\n",
       "      <td>0.420509</td>\n",
       "      <td>0.081081</td>\n",
       "      <td>0.012719</td>\n",
       "      <td>0.107313</td>\n",
       "      <td>0.050125</td>\n",
       "      <td>7</td>\n",
       "    </tr>\n",
       "    <tr>\n",
       "      <th>4</th>\n",
       "      <td>29.0</td>\n",
       "      <td>0.718227</td>\n",
       "      <td>0.567700</td>\n",
       "      <td>0.137632</td>\n",
       "      <td>0.008958</td>\n",
       "      <td>0.341631</td>\n",
       "      <td>0.061098</td>\n",
       "      <td>7</td>\n",
       "    </tr>\n",
       "  </tbody>\n",
       "</table>\n",
       "</div>"
      ],
      "text/plain": [
       "   Num_majors  Percent_full_time  Percent_college  Percent_non_college  \\\n",
       "0        29.0           0.790509         0.655836             0.155622   \n",
       "1        29.0           0.735450         0.462963             0.339947   \n",
       "2        29.0           0.651869         0.532710             0.205607   \n",
       "3        29.0           0.849762         0.420509             0.081081   \n",
       "4        29.0           0.718227         0.567700             0.137632   \n",
       "\n",
       "   Percent_sample_size  ShareWomen  Unemployment_rate  Major_category  \n",
       "0             0.015391    0.120564           0.018381               7  \n",
       "1             0.009259    0.101852           0.117241               7  \n",
       "2             0.003505    0.153037           0.024096               7  \n",
       "3             0.012719    0.107313           0.050125               7  \n",
       "4             0.008958    0.341631           0.061098               7  "
      ]
     },
     "execution_count": 295,
     "metadata": {},
     "output_type": "execute_result"
    }
   ],
   "source": [
    "features.head()"
   ]
  },
  {
   "cell_type": "code",
   "execution_count": 296,
   "id": "4e1ffe8f",
   "metadata": {},
   "outputs": [
    {
     "data": {
      "text/html": [
       "<div>\n",
       "<style scoped>\n",
       "    .dataframe tbody tr th:only-of-type {\n",
       "        vertical-align: middle;\n",
       "    }\n",
       "\n",
       "    .dataframe tbody tr th {\n",
       "        vertical-align: top;\n",
       "    }\n",
       "\n",
       "    .dataframe thead th {\n",
       "        text-align: right;\n",
       "    }\n",
       "</style>\n",
       "<table border=\"1\" class=\"dataframe\">\n",
       "  <thead>\n",
       "    <tr style=\"text-align: right;\">\n",
       "      <th></th>\n",
       "      <th>Total</th>\n",
       "      <th>Sample_size</th>\n",
       "      <th>Men</th>\n",
       "      <th>Women</th>\n",
       "      <th>ShareWomen</th>\n",
       "      <th>Employed</th>\n",
       "      <th>Full_time</th>\n",
       "      <th>Part_time</th>\n",
       "      <th>Full_time_year_round</th>\n",
       "      <th>Unemployed</th>\n",
       "      <th>...</th>\n",
       "      <th>College_jobs</th>\n",
       "      <th>Non_college_jobs</th>\n",
       "      <th>Num_majors</th>\n",
       "      <th>Percent_sample_size</th>\n",
       "      <th>Percent_employed</th>\n",
       "      <th>Percent_unemployed</th>\n",
       "      <th>Percent_college</th>\n",
       "      <th>Percent_non_college</th>\n",
       "      <th>Percent_low_wage</th>\n",
       "      <th>Percent_full_time</th>\n",
       "    </tr>\n",
       "  </thead>\n",
       "  <tbody>\n",
       "    <tr>\n",
       "      <th>0</th>\n",
       "      <td>2339</td>\n",
       "      <td>36</td>\n",
       "      <td>2057</td>\n",
       "      <td>282</td>\n",
       "      <td>0.120564</td>\n",
       "      <td>1976</td>\n",
       "      <td>1849</td>\n",
       "      <td>270</td>\n",
       "      <td>1207</td>\n",
       "      <td>37</td>\n",
       "      <td>...</td>\n",
       "      <td>1534</td>\n",
       "      <td>364</td>\n",
       "      <td>29.0</td>\n",
       "      <td>0.015391</td>\n",
       "      <td>0.844805</td>\n",
       "      <td>0.015819</td>\n",
       "      <td>0.655836</td>\n",
       "      <td>0.155622</td>\n",
       "      <td>0.082514</td>\n",
       "      <td>0.790509</td>\n",
       "    </tr>\n",
       "    <tr>\n",
       "      <th>1</th>\n",
       "      <td>756</td>\n",
       "      <td>7</td>\n",
       "      <td>679</td>\n",
       "      <td>77</td>\n",
       "      <td>0.101852</td>\n",
       "      <td>640</td>\n",
       "      <td>556</td>\n",
       "      <td>170</td>\n",
       "      <td>388</td>\n",
       "      <td>85</td>\n",
       "      <td>...</td>\n",
       "      <td>350</td>\n",
       "      <td>257</td>\n",
       "      <td>29.0</td>\n",
       "      <td>0.009259</td>\n",
       "      <td>0.846561</td>\n",
       "      <td>0.112434</td>\n",
       "      <td>0.462963</td>\n",
       "      <td>0.339947</td>\n",
       "      <td>0.066138</td>\n",
       "      <td>0.735450</td>\n",
       "    </tr>\n",
       "    <tr>\n",
       "      <th>2</th>\n",
       "      <td>856</td>\n",
       "      <td>3</td>\n",
       "      <td>725</td>\n",
       "      <td>131</td>\n",
       "      <td>0.153037</td>\n",
       "      <td>648</td>\n",
       "      <td>558</td>\n",
       "      <td>133</td>\n",
       "      <td>340</td>\n",
       "      <td>16</td>\n",
       "      <td>...</td>\n",
       "      <td>456</td>\n",
       "      <td>176</td>\n",
       "      <td>29.0</td>\n",
       "      <td>0.003505</td>\n",
       "      <td>0.757009</td>\n",
       "      <td>0.018692</td>\n",
       "      <td>0.532710</td>\n",
       "      <td>0.205607</td>\n",
       "      <td>0.000000</td>\n",
       "      <td>0.651869</td>\n",
       "    </tr>\n",
       "    <tr>\n",
       "      <th>3</th>\n",
       "      <td>1258</td>\n",
       "      <td>16</td>\n",
       "      <td>1123</td>\n",
       "      <td>135</td>\n",
       "      <td>0.107313</td>\n",
       "      <td>758</td>\n",
       "      <td>1069</td>\n",
       "      <td>150</td>\n",
       "      <td>692</td>\n",
       "      <td>40</td>\n",
       "      <td>...</td>\n",
       "      <td>529</td>\n",
       "      <td>102</td>\n",
       "      <td>29.0</td>\n",
       "      <td>0.012719</td>\n",
       "      <td>0.602544</td>\n",
       "      <td>0.031797</td>\n",
       "      <td>0.420509</td>\n",
       "      <td>0.081081</td>\n",
       "      <td>0.000000</td>\n",
       "      <td>0.849762</td>\n",
       "    </tr>\n",
       "    <tr>\n",
       "      <th>4</th>\n",
       "      <td>32260</td>\n",
       "      <td>289</td>\n",
       "      <td>21239</td>\n",
       "      <td>11021</td>\n",
       "      <td>0.341631</td>\n",
       "      <td>25694</td>\n",
       "      <td>23170</td>\n",
       "      <td>5180</td>\n",
       "      <td>16697</td>\n",
       "      <td>1672</td>\n",
       "      <td>...</td>\n",
       "      <td>18314</td>\n",
       "      <td>4440</td>\n",
       "      <td>29.0</td>\n",
       "      <td>0.008958</td>\n",
       "      <td>0.796466</td>\n",
       "      <td>0.051829</td>\n",
       "      <td>0.567700</td>\n",
       "      <td>0.137632</td>\n",
       "      <td>0.030130</td>\n",
       "      <td>0.718227</td>\n",
       "    </tr>\n",
       "  </tbody>\n",
       "</table>\n",
       "<p>5 rows × 21 columns</p>\n",
       "</div>"
      ],
      "text/plain": [
       "   Total  Sample_size    Men  Women  ShareWomen  Employed  Full_time  \\\n",
       "0   2339           36   2057    282    0.120564      1976       1849   \n",
       "1    756            7    679     77    0.101852       640        556   \n",
       "2    856            3    725    131    0.153037       648        558   \n",
       "3   1258           16   1123    135    0.107313       758       1069   \n",
       "4  32260          289  21239  11021    0.341631     25694      23170   \n",
       "\n",
       "   Part_time  Full_time_year_round  Unemployed  ...  College_jobs  \\\n",
       "0        270                  1207          37  ...          1534   \n",
       "1        170                   388          85  ...           350   \n",
       "2        133                   340          16  ...           456   \n",
       "3        150                   692          40  ...           529   \n",
       "4       5180                 16697        1672  ...         18314   \n",
       "\n",
       "   Non_college_jobs  Num_majors  Percent_sample_size  Percent_employed  \\\n",
       "0               364        29.0             0.015391          0.844805   \n",
       "1               257        29.0             0.009259          0.846561   \n",
       "2               176        29.0             0.003505          0.757009   \n",
       "3               102        29.0             0.012719          0.602544   \n",
       "4              4440        29.0             0.008958          0.796466   \n",
       "\n",
       "   Percent_unemployed  Percent_college  Percent_non_college  Percent_low_wage  \\\n",
       "0            0.015819         0.655836             0.155622          0.082514   \n",
       "1            0.112434         0.462963             0.339947          0.066138   \n",
       "2            0.018692         0.532710             0.205607          0.000000   \n",
       "3            0.031797         0.420509             0.081081          0.000000   \n",
       "4            0.051829         0.567700             0.137632          0.030130   \n",
       "\n",
       "   Percent_full_time  \n",
       "0           0.790509  \n",
       "1           0.735450  \n",
       "2           0.651869  \n",
       "3           0.849762  \n",
       "4           0.718227  \n",
       "\n",
       "[5 rows x 21 columns]"
      ]
     },
     "execution_count": 296,
     "metadata": {},
     "output_type": "execute_result"
    }
   ],
   "source": [
    "all_features.head()"
   ]
  },
  {
   "cell_type": "code",
   "execution_count": 305,
   "id": "b6349b22-8605-4dc6-ac88-3094aa4e91ab",
   "metadata": {},
   "outputs": [
    {
     "data": {
      "text/plain": [
       "0.6"
      ]
     },
     "execution_count": 305,
     "metadata": {},
     "output_type": "execute_result"
    }
   ],
   "source": [
    "### Categorical 60%\n",
    "\n",
    "naive_bayes = CategoricalNB(alpha=2)\n",
    "# fit categorical Naive Bayes model on training set\n",
    "naive_bayes.fit(X_train, y_train)\n",
    "# predict class variable on test set\n",
    "predictions = naive_bayes.predict(X_test)\n",
    "# generate accuracy score\n",
    "naive_bayes.score(X_test, y_test)"
   ]
  },
  {
   "cell_type": "code",
   "execution_count": null,
   "id": "4e275961",
   "metadata": {},
   "outputs": [],
   "source": []
  },
  {
   "cell_type": "code",
   "execution_count": 306,
   "id": "171d4d20-df7a-498d-aebc-98abfdf0c97d",
   "metadata": {},
   "outputs": [
    {
     "data": {
      "text/plain": [
       "0.5714285714285714"
      ]
     },
     "execution_count": 306,
     "metadata": {},
     "output_type": "execute_result"
    }
   ],
   "source": [
    "### Gaussian 68%\n",
    "naive_bayes = GaussianNB()\n",
    "# fit gaussian Naive Bayes model on training set\n",
    "naive_bayes.fit(X_train, y_train)\n",
    "# predict class variable on test set\n",
    "predictions = naive_bayes.predict(X_test)\n",
    "# generate accuracy score\n",
    "naive_bayes.score(X_test, y_test)"
   ]
  },
  {
   "cell_type": "code",
   "execution_count": 300,
   "id": "84b25c75-ff4e-4459-9be2-e4b30229a408",
   "metadata": {},
   "outputs": [
    {
     "name": "stdout",
     "output_type": "stream",
     "text": [
      "[16]\n",
      "0.4857142857142857\n",
      "0.4857142857142857 : is the accuracy score\n"
     ]
    }
   ],
   "source": [
    "## Mixed Naive Bayes --> 60% accuracy\n",
    "## https://pypi.org/project/mixed-naive-bayes/#api-documentation\n",
    "## https://github.com/remykarem/mixed-naive-bayes\n",
    "\n",
    "# label_encoder = LabelEncoder()\n",
    "# mixedNB_y_train = label_encoder.fit_transform(y_train[\"Median_category\"])\n",
    "# mixedNB_y_test = label_encoder.transform(y_test[\"Median_category\"])\n",
    "\n",
    "# initalize mixed Naive Bayes model with column -1 designated as categorical feature\n",
    "mixedNB = MixedNB(categorical_features=[-1])\n",
    "# fit mixed Naive Bayes model on training set\n",
    "mixedNB.fit(X_train, y_train)\n",
    "# predict class variable on test set\n",
    "mixedNB_predictions = mixedNB.predict(X_test)\n",
    "# generate accuracy score\n",
    "print(mixedNB.score(X_test, y_test))\n",
    "\n",
    "# print(confusion_matrix(y_test, mixedNB_predictions), \": is the confusion matrix\")\n",
    "\n",
    "print(accuracy_score(y_test, mixedNB_predictions), \": is the accuracy score\")\n",
    "\n",
    "# print(precision_score(y_test, mixedNB_predictions), \": is the precision score\")\n",
    "\n",
    "# print(recall_score(y_test, mixedNB_predictions), \": is the recall score\")\n",
    "\n",
    "# print(f1_score(y_test, mixedNB_predictions), \": is the f1 score\")\n",
    "# print(confusion_matrix(y_test, y_pred), \": is the confusion matrix\")"
   ]
  },
  {
   "cell_type": "code",
   "execution_count": 301,
   "id": "e41149bd-9bd5-47b8-ba6d-5d3fa5c062a5",
   "metadata": {
    "scrolled": true
   },
   "outputs": [
    {
     "name": "stdout",
     "output_type": "stream",
     "text": [
      "Fitting 10 folds for each of 100 candidates, totalling 1000 fits\n"
     ]
    },
    {
     "name": "stderr",
     "output_type": "stream",
     "text": [
      "/Users/amyjian/.pyenv/versions/3.8.1/envs/venv/lib/python3.8/site-packages/sklearn/model_selection/_split.py:676: UserWarning: The least populated class in y has only 1 members, which is less than n_splits=10.\n",
      "  warnings.warn(\n"
     ]
    },
    {
     "name": "stdout",
     "output_type": "stream",
     "text": [
      "[[ 0  2  0  0  0]\n",
      " [ 0 19  0  0  0]\n",
      " [ 0  3  0  1  0]\n",
      " [ 0  3  0  5  0]\n",
      " [ 0  0  0  2  0]] : is the confusion matrix\n"
     ]
    }
   ],
   "source": [
    "### param tuning, 68.7%\n",
    "### https://medium.com/analytics-vidhya/how-to-improve-naive-bayes-9fa698e14cba\n",
    "\n",
    "param_grid_nb = {\n",
    "    'var_smoothing': np.logspace(0,-9, num=100)\n",
    "}\n",
    "\n",
    "nbModel_grid = GridSearchCV(estimator=GaussianNB(), param_grid=param_grid_nb, verbose=1, cv=10, n_jobs=-1)\n",
    "nbModel_grid.fit(X_train, y_train)\n",
    "# print(nbModel_grid.best_estimator_)\n",
    "y_pred = nbModel_grid.predict(X_test)\n",
    "nbModel_grid.score(X_test, y_test)\n",
    "print(confusion_matrix(y_test, y_pred), \": is the confusion matrix\")\n"
   ]
  },
  {
   "cell_type": "code",
   "execution_count": 302,
   "id": "38a49f7a-3cc2-4834-81c4-71406b31e326",
   "metadata": {},
   "outputs": [
    {
     "data": {
      "text/plain": [
       "0.6857142857142857"
      ]
     },
     "execution_count": 302,
     "metadata": {},
     "output_type": "execute_result"
    }
   ],
   "source": [
    "nbModel_grid.score(X_test, y_test)"
   ]
  },
  {
   "cell_type": "code",
   "execution_count": 303,
   "id": "723b3c30-494e-4877-98fb-56dd381a57f7",
   "metadata": {},
   "outputs": [
    {
     "name": "stdout",
     "output_type": "stream",
     "text": [
      "Fitting 10 folds for each of 50 candidates, totalling 500 fits\n"
     ]
    },
    {
     "name": "stderr",
     "output_type": "stream",
     "text": [
      "/Users/amyjian/.pyenv/versions/3.8.1/envs/venv/lib/python3.8/site-packages/sklearn/model_selection/_split.py:676: UserWarning: The least populated class in y has only 1 members, which is less than n_splits=10.\n",
      "  warnings.warn(\n"
     ]
    },
    {
     "name": "stdout",
     "output_type": "stream",
     "text": [
      "[[ 0  2  0  0  0]\n",
      " [ 0 15  4  0  0]\n",
      " [ 0  2  2  0  0]\n",
      " [ 0  2  6  0  0]\n",
      " [ 0  0  2  0  0]] : is the confusion matrix\n"
     ]
    },
    {
     "data": {
      "text/plain": [
       "0.4857142857142857"
      ]
     },
     "execution_count": 303,
     "metadata": {},
     "output_type": "execute_result"
    }
   ],
   "source": [
    "### param tuning, 68.7%\n",
    "### https://medium.com/analytics-vidhya/how-to-improve-naive-bayes-9fa698e14cba\n",
    "\n",
    "param_grid_nb = {\n",
    "    'alpha': np.logspace(0,50, num=50),\n",
    "}\n",
    "\n",
    "nbModel_grid = GridSearchCV(estimator=CategoricalNB(), param_grid=param_grid_nb, verbose=1, cv=10, n_jobs=-1)\n",
    "nbModel_grid.fit(X_train, y_train)\n",
    "# print(nbModel_grid.best_estimator_)\n",
    "y_pred = nbModel_grid.predict(X_test)\n",
    "nbModel_grid.score(X_test, y_test)\n",
    "print(confusion_matrix(y_test, y_pred), \": is the confusion matrix\")\n",
    "\n",
    "nbModel_grid.score(X_test, y_test)\n"
   ]
  },
  {
   "cell_type": "code",
   "execution_count": null,
   "id": "a74d686a",
   "metadata": {},
   "outputs": [
    {
     "name": "stdout",
     "output_type": "stream",
     "text": [
      "ERROR! Session/line number was not unique inFitting 10 folds for each of 100 candidates, totalling 1000 fits\n",
      " database. History logging moved to new session 143\n"
     ]
    }
   ],
   "source": [
    "### param tuning, 68.7%\n",
    "### https://medium.com/analytics-vidhya/how-to-improve-naive-bayes-9fa698e14cba\n",
    "\n",
    "param_grid_nb = {\n",
    "    'alpha': np.logspace(0,50, num=100),\n",
    "}\n",
    "\n",
    "nbModel_grid = GridSearchCV(estimator=MixedNB(), param_grid=param_grid_nb, verbose=1, cv=10, n_jobs=-1)\n",
    "nbModel_grid.fit(X_train, y_train)\n",
    "# print(nbModel_grid.best_estimator_)\n",
    "y_pred = nbModel_grid.predict(X_test)\n",
    "nbModel_grid.score(X_test, y_test)\n",
    "print(confusion_matrix(y_test, y_pred), \": is the confusion matrix\")\n",
    "\n",
    "nbModel_grid.score(X_test, y_test)\n"
   ]
  },
  {
   "cell_type": "code",
   "execution_count": null,
   "id": "d3133f4a",
   "metadata": {},
   "outputs": [],
   "source": []
  }
 ],
 "metadata": {
  "kernelspec": {
   "display_name": "Python 3 (ipykernel)",
   "language": "python",
   "name": "python3"
  },
  "language_info": {
   "codemirror_mode": {
    "name": "ipython",
    "version": 3
   },
   "file_extension": ".py",
   "mimetype": "text/x-python",
   "name": "python",
   "nbconvert_exporter": "python",
   "pygments_lexer": "ipython3",
   "version": "3.8.1"
  }
 },
 "nbformat": 4,
 "nbformat_minor": 5
}
