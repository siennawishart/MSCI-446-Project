{
 "cells": [
  {
   "cell_type": "markdown",
   "metadata": {},
   "source": [
    "# KNN"
   ]
  },
  {
   "cell_type": "markdown",
   "metadata": {},
   "source": [
    "## Data Initialization"
   ]
  },
  {
   "cell_type": "code",
   "execution_count": 2,
   "metadata": {},
   "outputs": [],
   "source": [
    "#Load the necessary python libraries\n",
    "import numpy as np\n",
    "import pandas as pd\n",
    "import matplotlib.pyplot as plt\n",
    "plt.style.use('ggplot')\n",
    "\n",
    "# import LabelEncoder to apply one-hot encoding to \n",
    "from sklearn import preprocessing\n",
    "\n",
    "#importing train_test_split to split data train/test sets\n",
    "from sklearn.model_selection import train_test_split\n",
    "\n",
    "#import KNeighborsClassifier\n",
    "from sklearn.neighbors import KNeighborsClassifier\n",
    "\n",
    "#import GridSearchCV for hyperparameter tuning (optimal k)\n",
    "from sklearn.model_selection import GridSearchCV"
   ]
  },
  {
   "cell_type": "markdown",
   "metadata": {},
   "source": [
    "Import cleaned data with new features\n",
    "- save as dataframe\n",
    "- checkout first 5 rows of our data - see if features were imported correctly"
   ]
  },
  {
   "cell_type": "code",
   "execution_count": 687,
   "metadata": {
    "scrolled": false
   },
   "outputs": [],
   "source": [
    "data = pd.read_csv('../Data/Data Cleaning and Feature Eng/SL-recent-grads.csv')"
   ]
  },
  {
   "cell_type": "code",
   "execution_count": 688,
   "metadata": {},
   "outputs": [
    {
     "data": {
      "text/html": [
       "<div>\n",
       "<style scoped>\n",
       "    .dataframe tbody tr th:only-of-type {\n",
       "        vertical-align: middle;\n",
       "    }\n",
       "\n",
       "    .dataframe tbody tr th {\n",
       "        vertical-align: top;\n",
       "    }\n",
       "\n",
       "    .dataframe thead th {\n",
       "        text-align: right;\n",
       "    }\n",
       "</style>\n",
       "<table border=\"1\" class=\"dataframe\">\n",
       "  <thead>\n",
       "    <tr style=\"text-align: right;\">\n",
       "      <th></th>\n",
       "      <th>Unnamed: 0</th>\n",
       "      <th>Median</th>\n",
       "      <th>Median_category</th>\n",
       "      <th>Major_code</th>\n",
       "      <th>Major_category</th>\n",
       "      <th>Percent_low_wage</th>\n",
       "      <th>Percent_college</th>\n",
       "      <th>Percent_non_college</th>\n",
       "      <th>Num_majors</th>\n",
       "      <th>ShareWomen</th>\n",
       "      <th>...</th>\n",
       "      <th>Major_category_Health</th>\n",
       "      <th>Major_category_Humanities &amp; Liberal Arts</th>\n",
       "      <th>Major_category_Industrial Arts &amp; Consumer Services</th>\n",
       "      <th>Major_category_Interdisciplinary</th>\n",
       "      <th>Major_category_Law &amp; Public Policy</th>\n",
       "      <th>Major_category_Physical Sciences</th>\n",
       "      <th>Major_category_Psychology &amp; Social Work</th>\n",
       "      <th>Major_category_Social Science</th>\n",
       "      <th>Major_category_coded</th>\n",
       "      <th>Median_category_coded</th>\n",
       "    </tr>\n",
       "  </thead>\n",
       "  <tbody>\n",
       "    <tr>\n",
       "      <th>0</th>\n",
       "      <td>0</td>\n",
       "      <td>110000</td>\n",
       "      <td>110-120K</td>\n",
       "      <td>2419</td>\n",
       "      <td>Engineering</td>\n",
       "      <td>0.082514</td>\n",
       "      <td>0.655836</td>\n",
       "      <td>0.155622</td>\n",
       "      <td>29.0</td>\n",
       "      <td>0.120564</td>\n",
       "      <td>...</td>\n",
       "      <td>0</td>\n",
       "      <td>0</td>\n",
       "      <td>0</td>\n",
       "      <td>0</td>\n",
       "      <td>0</td>\n",
       "      <td>0</td>\n",
       "      <td>0</td>\n",
       "      <td>0</td>\n",
       "      <td>7</td>\n",
       "      <td>0</td>\n",
       "    </tr>\n",
       "    <tr>\n",
       "      <th>1</th>\n",
       "      <td>1</td>\n",
       "      <td>75000</td>\n",
       "      <td>70-80K</td>\n",
       "      <td>2416</td>\n",
       "      <td>Engineering</td>\n",
       "      <td>0.066138</td>\n",
       "      <td>0.462963</td>\n",
       "      <td>0.339947</td>\n",
       "      <td>29.0</td>\n",
       "      <td>0.101852</td>\n",
       "      <td>...</td>\n",
       "      <td>0</td>\n",
       "      <td>0</td>\n",
       "      <td>0</td>\n",
       "      <td>0</td>\n",
       "      <td>0</td>\n",
       "      <td>0</td>\n",
       "      <td>0</td>\n",
       "      <td>0</td>\n",
       "      <td>7</td>\n",
       "      <td>6</td>\n",
       "    </tr>\n",
       "    <tr>\n",
       "      <th>2</th>\n",
       "      <td>2</td>\n",
       "      <td>73000</td>\n",
       "      <td>70-80K</td>\n",
       "      <td>2415</td>\n",
       "      <td>Engineering</td>\n",
       "      <td>0.000000</td>\n",
       "      <td>0.532710</td>\n",
       "      <td>0.205607</td>\n",
       "      <td>29.0</td>\n",
       "      <td>0.153037</td>\n",
       "      <td>...</td>\n",
       "      <td>0</td>\n",
       "      <td>0</td>\n",
       "      <td>0</td>\n",
       "      <td>0</td>\n",
       "      <td>0</td>\n",
       "      <td>0</td>\n",
       "      <td>0</td>\n",
       "      <td>0</td>\n",
       "      <td>7</td>\n",
       "      <td>6</td>\n",
       "    </tr>\n",
       "    <tr>\n",
       "      <th>3</th>\n",
       "      <td>3</td>\n",
       "      <td>70000</td>\n",
       "      <td>70-80K</td>\n",
       "      <td>2417</td>\n",
       "      <td>Engineering</td>\n",
       "      <td>0.000000</td>\n",
       "      <td>0.420509</td>\n",
       "      <td>0.081081</td>\n",
       "      <td>29.0</td>\n",
       "      <td>0.107313</td>\n",
       "      <td>...</td>\n",
       "      <td>0</td>\n",
       "      <td>0</td>\n",
       "      <td>0</td>\n",
       "      <td>0</td>\n",
       "      <td>0</td>\n",
       "      <td>0</td>\n",
       "      <td>0</td>\n",
       "      <td>0</td>\n",
       "      <td>7</td>\n",
       "      <td>6</td>\n",
       "    </tr>\n",
       "    <tr>\n",
       "      <th>4</th>\n",
       "      <td>4</td>\n",
       "      <td>65000</td>\n",
       "      <td>60-70K</td>\n",
       "      <td>2405</td>\n",
       "      <td>Engineering</td>\n",
       "      <td>0.030130</td>\n",
       "      <td>0.567700</td>\n",
       "      <td>0.137632</td>\n",
       "      <td>29.0</td>\n",
       "      <td>0.341631</td>\n",
       "      <td>...</td>\n",
       "      <td>0</td>\n",
       "      <td>0</td>\n",
       "      <td>0</td>\n",
       "      <td>0</td>\n",
       "      <td>0</td>\n",
       "      <td>0</td>\n",
       "      <td>0</td>\n",
       "      <td>0</td>\n",
       "      <td>7</td>\n",
       "      <td>5</td>\n",
       "    </tr>\n",
       "  </tbody>\n",
       "</table>\n",
       "<p>5 rows × 34 columns</p>\n",
       "</div>"
      ],
      "text/plain": [
       "   Unnamed: 0  Median Median_category  Major_code Major_category  \\\n",
       "0           0  110000        110-120K        2419    Engineering   \n",
       "1           1   75000          70-80K        2416    Engineering   \n",
       "2           2   73000          70-80K        2415    Engineering   \n",
       "3           3   70000          70-80K        2417    Engineering   \n",
       "4           4   65000          60-70K        2405    Engineering   \n",
       "\n",
       "   Percent_low_wage  Percent_college  Percent_non_college  Num_majors  \\\n",
       "0          0.082514         0.655836             0.155622        29.0   \n",
       "1          0.066138         0.462963             0.339947        29.0   \n",
       "2          0.000000         0.532710             0.205607        29.0   \n",
       "3          0.000000         0.420509             0.081081        29.0   \n",
       "4          0.030130         0.567700             0.137632        29.0   \n",
       "\n",
       "   ShareWomen  ...  Major_category_Health  \\\n",
       "0    0.120564  ...                      0   \n",
       "1    0.101852  ...                      0   \n",
       "2    0.153037  ...                      0   \n",
       "3    0.107313  ...                      0   \n",
       "4    0.341631  ...                      0   \n",
       "\n",
       "   Major_category_Humanities & Liberal Arts  \\\n",
       "0                                         0   \n",
       "1                                         0   \n",
       "2                                         0   \n",
       "3                                         0   \n",
       "4                                         0   \n",
       "\n",
       "   Major_category_Industrial Arts & Consumer Services  \\\n",
       "0                                                  0    \n",
       "1                                                  0    \n",
       "2                                                  0    \n",
       "3                                                  0    \n",
       "4                                                  0    \n",
       "\n",
       "   Major_category_Interdisciplinary  Major_category_Law & Public Policy  \\\n",
       "0                                 0                                   0   \n",
       "1                                 0                                   0   \n",
       "2                                 0                                   0   \n",
       "3                                 0                                   0   \n",
       "4                                 0                                   0   \n",
       "\n",
       "   Major_category_Physical Sciences  Major_category_Psychology & Social Work  \\\n",
       "0                                 0                                        0   \n",
       "1                                 0                                        0   \n",
       "2                                 0                                        0   \n",
       "3                                 0                                        0   \n",
       "4                                 0                                        0   \n",
       "\n",
       "   Major_category_Social Science  Major_category_coded  Median_category_coded  \n",
       "0                              0                     7                      0  \n",
       "1                              0                     7                      6  \n",
       "2                              0                     7                      6  \n",
       "3                              0                     7                      6  \n",
       "4                              0                     7                      5  \n",
       "\n",
       "[5 rows x 34 columns]"
      ]
     },
     "execution_count": 688,
     "metadata": {},
     "output_type": "execute_result"
    }
   ],
   "source": [
    "# Convert cateogrical major category values to numerical values\n",
    "le = preprocessing.LabelEncoder()\n",
    "data[\"Major_category_coded\"] = le.fit_transform(data[\"Major_category\"])\n",
    "data[\"Median_category_coded\"] = le.fit_transform(data[\"Median_category\"])\n",
    "data.head()"
   ]
  },
  {
   "cell_type": "markdown",
   "metadata": {},
   "source": [
    "Split our dataset into a train and test set with an 80/20 split, respectively, using the train_test_split function. "
   ]
  },
  {
   "cell_type": "code",
   "execution_count": 689,
   "metadata": {},
   "outputs": [],
   "source": [
    "train, test = train_test_split(data,test_size=0.20)"
   ]
  },
  {
   "cell_type": "markdown",
   "metadata": {},
   "source": [
    "## Experiments\n",
    "Three experiments were run, training KNN models with three different feature sets. "
   ]
  },
  {
   "cell_type": "markdown",
   "metadata": {},
   "source": [
    "### Experiment 1\n",
    "- Training KNN on all features including correlated ones (using one-hot encoded major category values instead of the numerical categorical values, Major_category_coded)"
   ]
  },
  {
   "cell_type": "code",
   "execution_count": 60,
   "metadata": {},
   "outputs": [
    {
     "data": {
      "text/html": [
       "<div>\n",
       "<style scoped>\n",
       "    .dataframe tbody tr th:only-of-type {\n",
       "        vertical-align: middle;\n",
       "    }\n",
       "\n",
       "    .dataframe tbody tr th {\n",
       "        vertical-align: top;\n",
       "    }\n",
       "\n",
       "    .dataframe thead th {\n",
       "        text-align: right;\n",
       "    }\n",
       "</style>\n",
       "<table border=\"1\" class=\"dataframe\">\n",
       "  <thead>\n",
       "    <tr style=\"text-align: right;\">\n",
       "      <th></th>\n",
       "      <th>Unnamed: 0</th>\n",
       "      <th>Rank</th>\n",
       "      <th>Major_code</th>\n",
       "      <th>Total</th>\n",
       "      <th>Sample_size</th>\n",
       "      <th>Men</th>\n",
       "      <th>Women</th>\n",
       "      <th>ShareWomen</th>\n",
       "      <th>Employed</th>\n",
       "      <th>Full_time</th>\n",
       "      <th>...</th>\n",
       "      <th>Major_category_Health</th>\n",
       "      <th>Major_category_Humanities &amp; Liberal Arts</th>\n",
       "      <th>Major_category_Industrial Arts &amp; Consumer Services</th>\n",
       "      <th>Major_category_Interdisciplinary</th>\n",
       "      <th>Major_category_Law &amp; Public Policy</th>\n",
       "      <th>Major_category_Physical Sciences</th>\n",
       "      <th>Major_category_Psychology &amp; Social Work</th>\n",
       "      <th>Major_category_Social Science</th>\n",
       "      <th>Major_category_coded</th>\n",
       "      <th>Median_category_coded</th>\n",
       "    </tr>\n",
       "  </thead>\n",
       "  <tbody>\n",
       "    <tr>\n",
       "      <th>count</th>\n",
       "      <td>172.000000</td>\n",
       "      <td>172.000000</td>\n",
       "      <td>172.000000</td>\n",
       "      <td>172.000000</td>\n",
       "      <td>172.000000</td>\n",
       "      <td>172.000000</td>\n",
       "      <td>172.000000</td>\n",
       "      <td>172.000000</td>\n",
       "      <td>172.000000</td>\n",
       "      <td>172.000000</td>\n",
       "      <td>...</td>\n",
       "      <td>172.000000</td>\n",
       "      <td>172.000000</td>\n",
       "      <td>172.000000</td>\n",
       "      <td>172.000000</td>\n",
       "      <td>172.000000</td>\n",
       "      <td>172.00000</td>\n",
       "      <td>172.000000</td>\n",
       "      <td>172.000000</td>\n",
       "      <td>172.000000</td>\n",
       "      <td>172.000000</td>\n",
       "    </tr>\n",
       "    <tr>\n",
       "      <th>mean</th>\n",
       "      <td>86.075581</td>\n",
       "      <td>87.075581</td>\n",
       "      <td>3880.273256</td>\n",
       "      <td>39394.715116</td>\n",
       "      <td>358.127907</td>\n",
       "      <td>16723.877907</td>\n",
       "      <td>22653.656977</td>\n",
       "      <td>0.523090</td>\n",
       "      <td>31374.116279</td>\n",
       "      <td>26179.994186</td>\n",
       "      <td>...</td>\n",
       "      <td>0.069767</td>\n",
       "      <td>0.087209</td>\n",
       "      <td>0.034884</td>\n",
       "      <td>0.005814</td>\n",
       "      <td>0.029070</td>\n",
       "      <td>0.05814</td>\n",
       "      <td>0.052326</td>\n",
       "      <td>0.052326</td>\n",
       "      <td>6.965116</td>\n",
       "      <td>2.604651</td>\n",
       "    </tr>\n",
       "    <tr>\n",
       "      <th>std</th>\n",
       "      <td>50.221266</td>\n",
       "      <td>50.221266</td>\n",
       "      <td>1692.670105</td>\n",
       "      <td>63468.993551</td>\n",
       "      <td>619.578329</td>\n",
       "      <td>28122.182046</td>\n",
       "      <td>41053.785020</td>\n",
       "      <td>0.231135</td>\n",
       "      <td>50766.623538</td>\n",
       "      <td>42948.847324</td>\n",
       "      <td>...</td>\n",
       "      <td>0.255498</td>\n",
       "      <td>0.282965</td>\n",
       "      <td>0.184021</td>\n",
       "      <td>0.076249</td>\n",
       "      <td>0.168493</td>\n",
       "      <td>0.23469</td>\n",
       "      <td>0.223333</td>\n",
       "      <td>0.223333</td>\n",
       "      <td>4.241118</td>\n",
       "      <td>1.116375</td>\n",
       "    </tr>\n",
       "    <tr>\n",
       "      <th>min</th>\n",
       "      <td>0.000000</td>\n",
       "      <td>1.000000</td>\n",
       "      <td>1100.000000</td>\n",
       "      <td>609.000000</td>\n",
       "      <td>2.000000</td>\n",
       "      <td>119.000000</td>\n",
       "      <td>0.000000</td>\n",
       "      <td>0.000000</td>\n",
       "      <td>559.000000</td>\n",
       "      <td>488.000000</td>\n",
       "      <td>...</td>\n",
       "      <td>0.000000</td>\n",
       "      <td>0.000000</td>\n",
       "      <td>0.000000</td>\n",
       "      <td>0.000000</td>\n",
       "      <td>0.000000</td>\n",
       "      <td>0.00000</td>\n",
       "      <td>0.000000</td>\n",
       "      <td>0.000000</td>\n",
       "      <td>0.000000</td>\n",
       "      <td>0.000000</td>\n",
       "    </tr>\n",
       "    <tr>\n",
       "      <th>25%</th>\n",
       "      <td>42.750000</td>\n",
       "      <td>43.750000</td>\n",
       "      <td>2402.750000</td>\n",
       "      <td>4559.750000</td>\n",
       "      <td>42.000000</td>\n",
       "      <td>2177.500000</td>\n",
       "      <td>1851.500000</td>\n",
       "      <td>0.336026</td>\n",
       "      <td>3734.750000</td>\n",
       "      <td>3181.000000</td>\n",
       "      <td>...</td>\n",
       "      <td>0.000000</td>\n",
       "      <td>0.000000</td>\n",
       "      <td>0.000000</td>\n",
       "      <td>0.000000</td>\n",
       "      <td>0.000000</td>\n",
       "      <td>0.00000</td>\n",
       "      <td>0.000000</td>\n",
       "      <td>0.000000</td>\n",
       "      <td>3.000000</td>\n",
       "      <td>2.000000</td>\n",
       "    </tr>\n",
       "    <tr>\n",
       "      <th>50%</th>\n",
       "      <td>86.500000</td>\n",
       "      <td>87.500000</td>\n",
       "      <td>3607.500000</td>\n",
       "      <td>15104.000000</td>\n",
       "      <td>131.000000</td>\n",
       "      <td>5434.000000</td>\n",
       "      <td>8386.500000</td>\n",
       "      <td>0.539560</td>\n",
       "      <td>12031.500000</td>\n",
       "      <td>10073.500000</td>\n",
       "      <td>...</td>\n",
       "      <td>0.000000</td>\n",
       "      <td>0.000000</td>\n",
       "      <td>0.000000</td>\n",
       "      <td>0.000000</td>\n",
       "      <td>0.000000</td>\n",
       "      <td>0.00000</td>\n",
       "      <td>0.000000</td>\n",
       "      <td>0.000000</td>\n",
       "      <td>7.000000</td>\n",
       "      <td>2.000000</td>\n",
       "    </tr>\n",
       "    <tr>\n",
       "      <th>75%</th>\n",
       "      <td>129.250000</td>\n",
       "      <td>130.250000</td>\n",
       "      <td>5503.250000</td>\n",
       "      <td>38909.750000</td>\n",
       "      <td>339.000000</td>\n",
       "      <td>14631.000000</td>\n",
       "      <td>22553.750000</td>\n",
       "      <td>0.703299</td>\n",
       "      <td>31701.250000</td>\n",
       "      <td>25447.250000</td>\n",
       "      <td>...</td>\n",
       "      <td>0.000000</td>\n",
       "      <td>0.000000</td>\n",
       "      <td>0.000000</td>\n",
       "      <td>0.000000</td>\n",
       "      <td>0.000000</td>\n",
       "      <td>0.00000</td>\n",
       "      <td>0.000000</td>\n",
       "      <td>0.000000</td>\n",
       "      <td>9.000000</td>\n",
       "      <td>3.000000</td>\n",
       "    </tr>\n",
       "    <tr>\n",
       "      <th>max</th>\n",
       "      <td>172.000000</td>\n",
       "      <td>173.000000</td>\n",
       "      <td>6403.000000</td>\n",
       "      <td>393735.000000</td>\n",
       "      <td>4212.000000</td>\n",
       "      <td>173809.000000</td>\n",
       "      <td>307087.000000</td>\n",
       "      <td>0.968954</td>\n",
       "      <td>307933.000000</td>\n",
       "      <td>251540.000000</td>\n",
       "      <td>...</td>\n",
       "      <td>1.000000</td>\n",
       "      <td>1.000000</td>\n",
       "      <td>1.000000</td>\n",
       "      <td>1.000000</td>\n",
       "      <td>1.000000</td>\n",
       "      <td>1.00000</td>\n",
       "      <td>1.000000</td>\n",
       "      <td>1.000000</td>\n",
       "      <td>15.000000</td>\n",
       "      <td>6.000000</td>\n",
       "    </tr>\n",
       "  </tbody>\n",
       "</table>\n",
       "<p>8 rows × 47 columns</p>\n",
       "</div>"
      ],
      "text/plain": [
       "       Unnamed: 0        Rank   Major_code          Total  Sample_size  \\\n",
       "count  172.000000  172.000000   172.000000     172.000000   172.000000   \n",
       "mean    86.075581   87.075581  3880.273256   39394.715116   358.127907   \n",
       "std     50.221266   50.221266  1692.670105   63468.993551   619.578329   \n",
       "min      0.000000    1.000000  1100.000000     609.000000     2.000000   \n",
       "25%     42.750000   43.750000  2402.750000    4559.750000    42.000000   \n",
       "50%     86.500000   87.500000  3607.500000   15104.000000   131.000000   \n",
       "75%    129.250000  130.250000  5503.250000   38909.750000   339.000000   \n",
       "max    172.000000  173.000000  6403.000000  393735.000000  4212.000000   \n",
       "\n",
       "                 Men          Women  ShareWomen       Employed      Full_time  \\\n",
       "count     172.000000     172.000000  172.000000     172.000000     172.000000   \n",
       "mean    16723.877907   22653.656977    0.523090   31374.116279   26179.994186   \n",
       "std     28122.182046   41053.785020    0.231135   50766.623538   42948.847324   \n",
       "min       119.000000       0.000000    0.000000     559.000000     488.000000   \n",
       "25%      2177.500000    1851.500000    0.336026    3734.750000    3181.000000   \n",
       "50%      5434.000000    8386.500000    0.539560   12031.500000   10073.500000   \n",
       "75%     14631.000000   22553.750000    0.703299   31701.250000   25447.250000   \n",
       "max    173809.000000  307087.000000    0.968954  307933.000000  251540.000000   \n",
       "\n",
       "       ...  Major_category_Health  Major_category_Humanities & Liberal Arts  \\\n",
       "count  ...             172.000000                                172.000000   \n",
       "mean   ...               0.069767                                  0.087209   \n",
       "std    ...               0.255498                                  0.282965   \n",
       "min    ...               0.000000                                  0.000000   \n",
       "25%    ...               0.000000                                  0.000000   \n",
       "50%    ...               0.000000                                  0.000000   \n",
       "75%    ...               0.000000                                  0.000000   \n",
       "max    ...               1.000000                                  1.000000   \n",
       "\n",
       "       Major_category_Industrial Arts & Consumer Services  \\\n",
       "count                                         172.000000    \n",
       "mean                                            0.034884    \n",
       "std                                             0.184021    \n",
       "min                                             0.000000    \n",
       "25%                                             0.000000    \n",
       "50%                                             0.000000    \n",
       "75%                                             0.000000    \n",
       "max                                             1.000000    \n",
       "\n",
       "       Major_category_Interdisciplinary  Major_category_Law & Public Policy  \\\n",
       "count                        172.000000                          172.000000   \n",
       "mean                           0.005814                            0.029070   \n",
       "std                            0.076249                            0.168493   \n",
       "min                            0.000000                            0.000000   \n",
       "25%                            0.000000                            0.000000   \n",
       "50%                            0.000000                            0.000000   \n",
       "75%                            0.000000                            0.000000   \n",
       "max                            1.000000                            1.000000   \n",
       "\n",
       "       Major_category_Physical Sciences  \\\n",
       "count                         172.00000   \n",
       "mean                            0.05814   \n",
       "std                             0.23469   \n",
       "min                             0.00000   \n",
       "25%                             0.00000   \n",
       "50%                             0.00000   \n",
       "75%                             0.00000   \n",
       "max                             1.00000   \n",
       "\n",
       "       Major_category_Psychology & Social Work  Major_category_Social Science  \\\n",
       "count                               172.000000                     172.000000   \n",
       "mean                                  0.052326                       0.052326   \n",
       "std                                   0.223333                       0.223333   \n",
       "min                                   0.000000                       0.000000   \n",
       "25%                                   0.000000                       0.000000   \n",
       "50%                                   0.000000                       0.000000   \n",
       "75%                                   0.000000                       0.000000   \n",
       "max                                   1.000000                       1.000000   \n",
       "\n",
       "       Major_category_coded  Median_category_coded  \n",
       "count            172.000000             172.000000  \n",
       "mean               6.965116               2.604651  \n",
       "std                4.241118               1.116375  \n",
       "min                0.000000               0.000000  \n",
       "25%                3.000000               2.000000  \n",
       "50%                7.000000               2.000000  \n",
       "75%                9.000000               3.000000  \n",
       "max               15.000000               6.000000  \n",
       "\n",
       "[8 rows x 47 columns]"
      ]
     },
     "execution_count": 60,
     "metadata": {},
     "output_type": "execute_result"
    }
   ],
   "source": [
    "# read in data\n",
    "allData = pd.read_csv('../Data/Data Cleaning and Feature Eng/recent-grads-new-features.csv')\n",
    "allData.head()\n",
    "\n",
    "# Encode major category and median category (categorical to numerical conversion)\n",
    "le = preprocessing.LabelEncoder()\n",
    "allData[\"Major_category_coded\"] = le.fit_transform(allData[\"Major_category\"])\n",
    "allData[\"Median_category_coded\"] = le.fit_transform(allData[\"Median_category\"])\n",
    "# Checkout the data\n",
    "allData.describe()"
   ]
  },
  {
   "cell_type": "code",
   "execution_count": 61,
   "metadata": {},
   "outputs": [],
   "source": [
    "trainAll, testAll = train_test_split(allData,test_size=0.20)"
   ]
  },
  {
   "cell_type": "code",
   "execution_count": 62,
   "metadata": {},
   "outputs": [],
   "source": [
    "allDataFeat = ['Rank', \n",
    "#                'Major_category_coded', \n",
    "               'Major_code', 'Total',\n",
    "       'Sample_size', 'Men', 'Women', 'ShareWomen', 'Employed', 'Full_time',\n",
    "       'Part_time', 'Full_time_year_round', 'Unemployed', 'Unemployment_rate',\n",
    "        'P25th', 'P75th', 'College_jobs', 'Non_college_jobs',\n",
    "       'Low_wage_jobs', 'Num_majors', 'Percent_sample_size',\n",
    "'Percent_employed', 'Percent_unemployed', 'Percent_college',\n",
    "       'Percent_non_college', 'Percent_low_wage', 'Percent_full_time',\n",
    "       'Percent_part_time',\n",
    "       'Major_category_Agriculture & Natural Resources', 'Major_category_Arts',\n",
    "       'Major_category_Biology & Life Science', 'Major_category_Business',\n",
    "       'Major_category_Communications & Journalism',\n",
    "       'Major_category_Computers & Mathematics', 'Major_category_Education',\n",
    "       'Major_category_Engineering', 'Major_category_Health',\n",
    "       'Major_category_Humanities & Liberal Arts',\n",
    "       'Major_category_Industrial Arts & Consumer Services',\n",
    "       'Major_category_Interdisciplinary',\n",
    "       'Major_category_Law & Public Policy',\n",
    "       'Major_category_Physical Sciences',\n",
    "       'Major_category_Psychology & Social Work',\n",
    "       'Major_category_Social Science'\n",
    "              ]"
   ]
  },
  {
   "cell_type": "markdown",
   "metadata": {},
   "source": [
    "Assign training and test data \n",
    "- X_train/X_test: data used to train our model (uses the features listed above)\n",
    "- y_train/y_test: data values of the variable that we're predicting (median category)"
   ]
  },
  {
   "cell_type": "code",
   "execution_count": 63,
   "metadata": {},
   "outputs": [],
   "source": [
    "X_train = trainAll[allDataFeat]\n",
    "y_train = trainAll['Median_category_coded']\n",
    "\n",
    "X_test = testAll[allDataFeat]\n",
    "y_test = testAll['Median_category_coded']"
   ]
  },
  {
   "cell_type": "markdown",
   "metadata": {},
   "source": [
    "### Manual Parameter Tuning\n",
    "- Create KNN classifiers with varying values of k (number of neighbours), ranging from 1 to 25\n",
    "- The accuracies for different values of k are compared via a plot, and the k value corresponding to the highest accuracy is selected"
   ]
  },
  {
   "cell_type": "code",
   "execution_count": 64,
   "metadata": {},
   "outputs": [],
   "source": [
    "# Initialize training and test accuracy lists\n",
    "neighbors = np.arange(1,25)\n",
    "train_accuracy = np.empty(len(neighbors))\n",
    "test_accuracy = np.empty(len(neighbors))\n",
    "\n",
    "for i,k in enumerate(neighbors):\n",
    "    # Initialize KNN classifier with k neighbors\n",
    "    knn = KNeighborsClassifier(n_neighbors=k)\n",
    "    \n",
    "    # Fit KNN model\n",
    "    knn.fit(X_train,y_train)\n",
    "    \n",
    "    # Compute training accuracy\n",
    "    train_accuracy[i] = knn.score(X_train,y_train)\n",
    "    \n",
    "    # Compute test accuracy\n",
    "    test_accuracy[i] = knn.score(X_test,y_test)"
   ]
  },
  {
   "cell_type": "code",
   "execution_count": 65,
   "metadata": {
    "scrolled": true
   },
   "outputs": [
    {
     "data": {
      "image/png": "[encoded data removed]",
      "text/plain": [
       "<Figure size 432x288 with 1 Axes>"
      ]
     },
     "metadata": {},
     "output_type": "display_data"
    }
   ],
   "source": [
    "# Plot train and test accuracies for varying k values\n",
    "plt.plot(neighbors,test_accuracy,label='Testing Accuracy')\n",
    "plt.plot(neighbors,train_accuracy,label='Training Accuracy')\n",
    "plt.legend()\n",
    "plt.xlabel('Number of neighbors')\n",
    "plt.ylabel('Accuracy')\n",
    "plt.title('KNN Varying number of neighbors')\n",
    "plt.show()"
   ]
  },
  {
   "cell_type": "markdown",
   "metadata": {},
   "source": [
    "Based on the graph above, it appears that the testing accuracy is highest when k is 8, 9, or 12, 13, 15, 16, 23, thus we will create a KNN classifier with 8 neighbours:"
   ]
  },
  {
   "cell_type": "code",
   "execution_count": 73,
   "metadata": {},
   "outputs": [
    {
     "data": {
      "text/plain": [
       "0.6285714285714286"
      ]
     },
     "execution_count": 73,
     "metadata": {},
     "output_type": "execute_result"
    }
   ],
   "source": [
    "# Initialize KNN classifier \n",
    "knn = KNeighborsClassifier(n_neighbors=8)\n",
    "\n",
    "# Fit KNN model\n",
    "knn.fit(X_train,y_train)\n",
    "\n",
    "# Compute classifier accuracy on test set\n",
    "knn.score(X_test,y_test)"
   ]
  },
  {
   "cell_type": "markdown",
   "metadata": {},
   "source": [
    "### Hyperparameter Tuning\n",
    "- Use GridSearchCV, a Scikit-learn library, to find the optimal value of k\n",
    "- Look at values of k within 1 and 50\n",
    "- Set cross-validation batch size to cv = 5"
   ]
  },
  {
   "cell_type": "code",
   "execution_count": 89,
   "metadata": {},
   "outputs": [
    {
     "name": "stderr",
     "output_type": "stream",
     "text": [
      "/opt/anaconda3/lib/python3.8/site-packages/sklearn/model_selection/_split.py:670: UserWarning: The least populated class in y has only 1 members, which is less than n_splits=5.\n",
      "  warnings.warn((\"The least populated class in y has only %d\"\n"
     ]
    },
    {
     "data": {
      "text/plain": [
       "GridSearchCV(cv=5, estimator=KNeighborsClassifier(),\n",
       "             param_grid={'n_neighbors': array([ 1,  2,  3,  4,  5,  6,  7,  8,  9, 10, 11, 12, 13, 14, 15, 16, 17,\n",
       "       18, 19, 20, 21, 22, 23, 24, 25, 26, 27, 28, 29, 30, 31, 32, 33, 34,\n",
       "       35, 36, 37, 38, 39, 40, 41, 42, 43, 44, 45, 46, 47, 48, 49, 50, 51,\n",
       "       52, 53, 54, 55, 56, 57, 58, 59, 60, 61, 62, 63, 64, 65, 66, 67, 68,\n",
       "       69, 70, 71, 72, 73, 74, 75, 76, 77, 78, 79, 80, 81, 82, 83, 84, 85,\n",
       "       86, 87, 88, 89, 90, 91, 92, 93, 94, 95, 96, 97, 98, 99])})"
      ]
     },
     "execution_count": 89,
     "metadata": {},
     "output_type": "execute_result"
    }
   ],
   "source": [
    "# Tune n_neighbors (k neighbours) using GridSearchCV\n",
    "#   Assess values of k between 1 and 100\n",
    "param_grid = {'n_neighbors':np.arange(1,100)}\n",
    "\n",
    "# Classify, hypertune, and train KNN \n",
    "knn = KNeighborsClassifier()\n",
    "knn_cv = GridSearchCV(knn,param_grid,cv=5)\n",
    "knn_cv.fit(X_train,y_train)"
   ]
  },
  {
   "cell_type": "markdown",
   "metadata": {},
   "source": [
    "Get best KNN score, save k parameter corresponding to the best score of all models, train and obtain accuracy of a KNN model with this k parameter:"
   ]
  },
  {
   "cell_type": "code",
   "execution_count": 90,
   "metadata": {},
   "outputs": [
    {
     "data": {
      "text/plain": [
       "0.6211640211640211"
      ]
     },
     "execution_count": 90,
     "metadata": {},
     "output_type": "execute_result"
    }
   ],
   "source": [
    "knn_cv.best_score_"
   ]
  },
  {
   "cell_type": "code",
   "execution_count": 91,
   "metadata": {},
   "outputs": [
    {
     "data": {
      "text/plain": [
       "{'n_neighbors': 4}"
      ]
     },
     "execution_count": 91,
     "metadata": {},
     "output_type": "execute_result"
    }
   ],
   "source": [
    "knn_cv.best_params_"
   ]
  },
  {
   "cell_type": "code",
   "execution_count": 92,
   "metadata": {},
   "outputs": [],
   "source": [
    "optimalK = knn_cv.best_params_['n_neighbors']"
   ]
  },
  {
   "cell_type": "markdown",
   "metadata": {},
   "source": [
    "Train KNN with optimal k value"
   ]
  },
  {
   "cell_type": "code",
   "execution_count": 93,
   "metadata": {},
   "outputs": [
    {
     "data": {
      "text/plain": [
       "0.5142857142857142"
      ]
     },
     "execution_count": 93,
     "metadata": {},
     "output_type": "execute_result"
    }
   ],
   "source": [
    "# Initialize KNN classifier \n",
    "knn = KNeighborsClassifier(n_neighbors=optimalK)\n",
    "\n",
    "# Fit KNN model\n",
    "knn.fit(X_train,y_train)\n",
    "\n",
    "# Compute classifier accuracy on test set\n",
    "knn.score(X_test,y_test)"
   ]
  },
  {
   "cell_type": "markdown",
   "metadata": {},
   "source": [
    "### Experiment 1.1\n",
    "- Training KNN on all features (using numerical categorical values, Major_category_coded, instead of the one-hot encoded major category values)\n",
    "- Got same results (accuracies) as Experiment 1, thus this experiment was excluded from the project report"
   ]
  },
  {
   "cell_type": "code",
   "execution_count": 94,
   "metadata": {},
   "outputs": [],
   "source": [
    "# Define features to be used in training\n",
    "allDataFeat = ['Rank', \n",
    "               'Major_category_coded', \n",
    "               'Major_code', 'Total',\n",
    "       'Sample_size', 'Men', 'Women', 'ShareWomen', 'Employed', 'Full_time',\n",
    "       'Part_time', 'Full_time_year_round', 'Unemployed', 'Unemployment_rate',\n",
    "        'P25th', 'P75th', 'College_jobs', 'Non_college_jobs',\n",
    "       'Low_wage_jobs', 'Num_majors', 'Percent_sample_size',\n",
    "'Percent_employed', 'Percent_unemployed', 'Percent_college',\n",
    "       'Percent_non_college', 'Percent_low_wage', 'Percent_full_time',\n",
    "       'Percent_part_time'\n",
    "              ]"
   ]
  },
  {
   "cell_type": "markdown",
   "metadata": {},
   "source": [
    "Assign training and test data \n",
    "- X_train/X_test: data used to train our model (uses the features listed above)\n",
    "- y_train/y_test: data values of the variable that we're predicting (median category)"
   ]
  },
  {
   "cell_type": "code",
   "execution_count": 95,
   "metadata": {},
   "outputs": [],
   "source": [
    "X_train = trainAll[allDataFeat]\n",
    "y_train = trainAll['Median_category_coded']\n",
    "\n",
    "X_test = testAll[allDataFeat]\n",
    "y_test = testAll['Median_category_coded']"
   ]
  },
  {
   "cell_type": "markdown",
   "metadata": {},
   "source": [
    "### Manual Parameter Tuning\n",
    "- Create KNN classifiers with varying values of k (number of neighbours), ranging from 1 to 25\n",
    "- The accuracies for different values of k are compared via a plot, and the k value corresponding to the highest accuracy is selected"
   ]
  },
  {
   "cell_type": "code",
   "execution_count": 96,
   "metadata": {},
   "outputs": [],
   "source": [
    "# Initialize training and test accuracy lists\n",
    "neighbors = np.arange(1,25)\n",
    "train_accuracy = np.empty(len(neighbors))\n",
    "test_accuracy = np.empty(len(neighbors))\n",
    "\n",
    "for i,k in enumerate(neighbors):\n",
    "    # Initialize KNN classifier with k neighbors\n",
    "    knn = KNeighborsClassifier(n_neighbors=k)\n",
    "    \n",
    "    # Fit KNN model\n",
    "    knn.fit(X_train,y_train)\n",
    "    \n",
    "    # Compute training accuracy\n",
    "    train_accuracy[i] = knn.score(X_train,y_train)\n",
    "    \n",
    "    # Compute test accuracy\n",
    "    test_accuracy[i] = knn.score(X_test,y_test)"
   ]
  },
  {
   "cell_type": "code",
   "execution_count": 97,
   "metadata": {
    "scrolled": true
   },
   "outputs": [
    {
     "data": {
      "image/png": "[encoded data removed]",
      "text/plain": [
       "<Figure size 432x288 with 1 Axes>"
      ]
     },
     "metadata": {},
     "output_type": "display_data"
    }
   ],
   "source": [
    "# Plot train and test accuracies for varying k values\n",
    "plt.plot(neighbors,test_accuracy,label='Testing Accuracy')\n",
    "plt.plot(neighbors,train_accuracy,label='Training Accuracy')\n",
    "plt.legend()\n",
    "plt.xlabel('Number of neighbors')\n",
    "plt.ylabel('Accuracy')\n",
    "plt.title('KNN Varying number of neighbors')\n",
    "plt.show()"
   ]
  },
  {
   "cell_type": "markdown",
   "metadata": {},
   "source": [
    "Based on the graph above, it appears that the testing accuracy is highest when k is 8, 9, 12, 13, 15, 16, 23, thus we will create a KNN classifier with 8 neighbours:"
   ]
  },
  {
   "cell_type": "code",
   "execution_count": 99,
   "metadata": {},
   "outputs": [
    {
     "data": {
      "text/plain": [
       "0.6285714285714286"
      ]
     },
     "execution_count": 99,
     "metadata": {},
     "output_type": "execute_result"
    }
   ],
   "source": [
    "# Initialize KNN classifier \n",
    "knn = KNeighborsClassifier(n_neighbors=8)\n",
    "\n",
    "# Fit KNN model\n",
    "knn.fit(X_train,y_train)\n",
    "\n",
    "# Compute classifier accuracy on test set\n",
    "knn.score(X_test,y_test)"
   ]
  },
  {
   "cell_type": "markdown",
   "metadata": {},
   "source": [
    "### Hyperparameter Tuning\n",
    "- Use GridSearchCV, a Scikit-learn library, to find the optimal value of k\n",
    "- Look at values of k within 1 and 50\n",
    "- Set cross-validation batch size to cv = 5"
   ]
  },
  {
   "cell_type": "code",
   "execution_count": 100,
   "metadata": {
    "scrolled": true
   },
   "outputs": [
    {
     "name": "stderr",
     "output_type": "stream",
     "text": [
      "/opt/anaconda3/lib/python3.8/site-packages/sklearn/model_selection/_split.py:670: UserWarning: The least populated class in y has only 1 members, which is less than n_splits=5.\n",
      "  warnings.warn((\"The least populated class in y has only %d\"\n"
     ]
    },
    {
     "data": {
      "text/plain": [
       "GridSearchCV(cv=5, estimator=KNeighborsClassifier(),\n",
       "             param_grid={'n_neighbors': array([ 1,  2,  3,  4,  5,  6,  7,  8,  9, 10, 11, 12, 13, 14, 15, 16, 17,\n",
       "       18, 19, 20, 21, 22, 23, 24, 25, 26, 27, 28, 29, 30, 31, 32, 33, 34,\n",
       "       35, 36, 37, 38, 39, 40, 41, 42, 43, 44, 45, 46, 47, 48, 49, 50, 51,\n",
       "       52, 53, 54, 55, 56, 57, 58, 59, 60, 61, 62, 63, 64, 65, 66, 67, 68,\n",
       "       69, 70, 71, 72, 73, 74, 75, 76, 77, 78, 79, 80, 81, 82, 83, 84, 85,\n",
       "       86, 87, 88, 89, 90, 91, 92, 93, 94, 95, 96, 97, 98, 99])})"
      ]
     },
     "execution_count": 100,
     "metadata": {},
     "output_type": "execute_result"
    }
   ],
   "source": [
    "# Tune n_neighbors (k neighbours) using GridSearchCV\n",
    "#   Assess values of k between 1 and 100\n",
    "param_grid = {'n_neighbors':np.arange(1,100)}\n",
    "\n",
    "# Classify, hypertune, and train KNN \n",
    "knn = KNeighborsClassifier()\n",
    "knn_cv = GridSearchCV(knn,param_grid,cv=5)\n",
    "knn_cv.fit(X_train,y_train)"
   ]
  },
  {
   "cell_type": "markdown",
   "metadata": {},
   "source": [
    "Get best KNN score, save k parameter corresponding to the best score of all models, train and obtain accuracy of a KNN model with this k parameter:"
   ]
  },
  {
   "cell_type": "code",
   "execution_count": 101,
   "metadata": {},
   "outputs": [
    {
     "data": {
      "text/plain": [
       "0.6211640211640211"
      ]
     },
     "execution_count": 101,
     "metadata": {},
     "output_type": "execute_result"
    }
   ],
   "source": [
    "knn_cv.best_score_"
   ]
  },
  {
   "cell_type": "code",
   "execution_count": 102,
   "metadata": {},
   "outputs": [
    {
     "data": {
      "text/plain": [
       "{'n_neighbors': 4}"
      ]
     },
     "execution_count": 102,
     "metadata": {},
     "output_type": "execute_result"
    }
   ],
   "source": [
    "knn_cv.best_params_"
   ]
  },
  {
   "cell_type": "code",
   "execution_count": 103,
   "metadata": {},
   "outputs": [],
   "source": [
    "optimalK = knn_cv.best_params_['n_neighbors']"
   ]
  },
  {
   "cell_type": "markdown",
   "metadata": {},
   "source": [
    "Train KNN with optimal k value"
   ]
  },
  {
   "cell_type": "code",
   "execution_count": 104,
   "metadata": {
    "scrolled": true
   },
   "outputs": [
    {
     "data": {
      "text/plain": [
       "0.5142857142857142"
      ]
     },
     "execution_count": 104,
     "metadata": {},
     "output_type": "execute_result"
    }
   ],
   "source": [
    "# Initialize KNN classifier \n",
    "knn = KNeighborsClassifier(n_neighbors=optimalK)\n",
    "\n",
    "# Fit KNN model\n",
    "knn.fit(X_train,y_train)\n",
    "\n",
    "# Compute classifier accuracy on test set\n",
    "knn.score(X_test,y_test)"
   ]
  },
  {
   "cell_type": "markdown",
   "metadata": {},
   "source": [
    "### Experiment 2\n",
    "- All features except P25 and P27\n",
    "- Uses Major_category_coded instead of one-hot encoded columns"
   ]
  },
  {
   "cell_type": "code",
   "execution_count": 717,
   "metadata": {},
   "outputs": [],
   "source": [
    "# Define features to be used in training\n",
    "features = [\n",
    " 'Percent_low_wage',\n",
    " 'Percent_college',\n",
    " 'Percent_non_college',\n",
    " 'Num_majors',\n",
    " 'ShareWomen',\n",
    " 'Women',\n",
    " 'Part_time',\n",
    " 'Unemployment_rate',\n",
    " 'Percent_sample_size',\n",
    " 'Major_category_coded']"
   ]
  },
  {
   "cell_type": "markdown",
   "metadata": {},
   "source": [
    "Assign training and test data \n",
    "- X_train/X_test: data used to train our model (uses the features listed above)\n",
    "- y_train/y_test: data values of the variable that we're predicting (median category)"
   ]
  },
  {
   "cell_type": "code",
   "execution_count": 718,
   "metadata": {},
   "outputs": [],
   "source": [
    "X_train = train[features]\n",
    "y_train = train['Median_category_coded']\n",
    "\n",
    "X_test = test[features]\n",
    "y_test = test['Median_category_coded']"
   ]
  },
  {
   "cell_type": "markdown",
   "metadata": {},
   "source": [
    "### Manual Parameter Tuning\n",
    "- Create KNN classifiers with varying values of k (number of neighbours), ranging from 1 to 25\n",
    "- The accuracies for different values of k are compared via a plot, and the k value corresponding to the highest accuracy is selected"
   ]
  },
  {
   "cell_type": "code",
   "execution_count": 723,
   "metadata": {},
   "outputs": [],
   "source": [
    "# Initialize training and test accuracy lists\n",
    "neighbors = np.arange(1,25)\n",
    "train_accuracy = np.empty(len(neighbors))\n",
    "test_accuracy = np.empty(len(neighbors))\n",
    "\n",
    "for i,k in enumerate(neighbors):\n",
    "    # Initialize KNN classifier with k neighbors\n",
    "    knn = KNeighborsClassifier(n_neighbors=k)\n",
    "    \n",
    "    # Fit KNN model\n",
    "    knn.fit(X_train,y_train)\n",
    "    \n",
    "    # Compute training accuracy\n",
    "    train_accuracy[i] = knn.score(X_train,y_train)\n",
    "    \n",
    "    # Compute test accuracy\n",
    "    test_accuracy[i] = knn.score(X_test,y_test)"
   ]
  },
  {
   "cell_type": "code",
   "execution_count": 724,
   "metadata": {
    "scrolled": true
   },
   "outputs": [
    {
     "data": {
      "image/png": "[encoded data removed]",
      "text/plain": [
       "<Figure size 432x288 with 1 Axes>"
      ]
     },
     "metadata": {},
     "output_type": "display_data"
    }
   ],
   "source": [
    "# Plot train and test accuracies for varying k values\n",
    "plt.plot(neighbors,test_accuracy,label='Testing Accuracy')\n",
    "plt.plot(neighbors,train_accuracy,label='Training Accuracy')\n",
    "plt.legend()\n",
    "plt.xlabel('Number of neighbors')\n",
    "plt.ylabel('Accuracy')\n",
    "plt.title('KNN Varying number of neighbors')\n",
    "plt.show()"
   ]
  },
  {
   "cell_type": "markdown",
   "metadata": {},
   "source": [
    "Based on the graph above, it appears that the testing accuracy is highest when k is 7, thus we will create a KNN classifier with 7 neighbours:"
   ]
  },
  {
   "cell_type": "code",
   "execution_count": 725,
   "metadata": {},
   "outputs": [
    {
     "data": {
      "text/plain": [
       "0.5142857142857142"
      ]
     },
     "execution_count": 725,
     "metadata": {},
     "output_type": "execute_result"
    }
   ],
   "source": [
    "# Initialize KNN classifier \n",
    "knn = KNeighborsClassifier(n_neighbors=7)\n",
    "\n",
    "# Fit KNN model\n",
    "knn.fit(X_train,y_train)\n",
    "\n",
    "# Compute classifier accuracy on test set\n",
    "knn.score(X_test,y_test)"
   ]
  },
  {
   "cell_type": "markdown",
   "metadata": {},
   "source": [
    "### Hyperparameter Tuning\n",
    "- Use GridSearchCV, a Scikit-learn library, to find the optimal value of k\n",
    "- Look at values of k within 1 and 50\n",
    "- Set cross-validation batch size to cv = 5"
   ]
  },
  {
   "cell_type": "code",
   "execution_count": 741,
   "metadata": {},
   "outputs": [
    {
     "name": "stderr",
     "output_type": "stream",
     "text": [
      "/opt/anaconda3/lib/python3.8/site-packages/sklearn/model_selection/_split.py:670: UserWarning: The least populated class in y has only 1 members, which is less than n_splits=5.\n",
      "  warnings.warn((\"The least populated class in y has only %d\"\n"
     ]
    },
    {
     "data": {
      "text/plain": [
       "GridSearchCV(cv=5, estimator=KNeighborsClassifier(),\n",
       "             param_grid={'n_neighbors': array([ 1,  2,  3,  4,  5,  6,  7,  8,  9, 10, 11, 12, 13, 14, 15, 16, 17,\n",
       "       18, 19, 20, 21, 22, 23, 24, 25, 26, 27, 28, 29, 30, 31, 32, 33, 34,\n",
       "       35, 36, 37, 38, 39, 40, 41, 42, 43, 44, 45, 46, 47, 48, 49, 50, 51,\n",
       "       52, 53, 54, 55, 56, 57, 58, 59, 60, 61, 62, 63, 64, 65, 66, 67, 68,\n",
       "       69, 70, 71, 72, 73, 74, 75, 76, 77, 78, 79, 80, 81, 82, 83, 84, 85,\n",
       "       86, 87, 88, 89, 90, 91, 92, 93, 94, 95, 96, 97, 98, 99])})"
      ]
     },
     "execution_count": 741,
     "metadata": {},
     "output_type": "execute_result"
    }
   ],
   "source": [
    "# Tune n_neighbors (k neighbours) using GridSearchCV\n",
    "#   Assess values of k between 1 and 100\n",
    "param_grid = {'n_neighbors':np.arange(1,100)}\n",
    "\n",
    "# Classify, hypertune, and train KNN \n",
    "knn = KNeighborsClassifier()\n",
    "knn_cv = GridSearchCV(knn,param_grid,cv=5)\n",
    "knn_cv.fit(X_train,y_train)"
   ]
  },
  {
   "cell_type": "markdown",
   "metadata": {},
   "source": [
    "Get best KNN score, save k parameter corresponding to the best score of all models, train and obtain accuracy of a KNN model with this k parameter:"
   ]
  },
  {
   "cell_type": "code",
   "execution_count": 742,
   "metadata": {},
   "outputs": [
    {
     "data": {
      "text/plain": [
       "0.5555555555555556"
      ]
     },
     "execution_count": 742,
     "metadata": {},
     "output_type": "execute_result"
    }
   ],
   "source": [
    "knn_cv.best_score_"
   ]
  },
  {
   "cell_type": "code",
   "execution_count": 743,
   "metadata": {},
   "outputs": [
    {
     "data": {
      "text/plain": [
       "{'n_neighbors': 21}"
      ]
     },
     "execution_count": 743,
     "metadata": {},
     "output_type": "execute_result"
    }
   ],
   "source": [
    "knn_cv.best_params_"
   ]
  },
  {
   "cell_type": "code",
   "execution_count": 744,
   "metadata": {},
   "outputs": [],
   "source": [
    "optimalK = knn_cv.best_params_['n_neighbors']"
   ]
  },
  {
   "cell_type": "markdown",
   "metadata": {},
   "source": [
    "Train KNN with optimal k value"
   ]
  },
  {
   "cell_type": "code",
   "execution_count": 745,
   "metadata": {
    "scrolled": true
   },
   "outputs": [
    {
     "data": {
      "text/plain": [
       "0.45714285714285713"
      ]
     },
     "execution_count": 745,
     "metadata": {},
     "output_type": "execute_result"
    }
   ],
   "source": [
    "# Initialize KNN classifier \n",
    "knn = KNeighborsClassifier(n_neighbors=optimalK)\n",
    "\n",
    "# Fit KNN model\n",
    "knn.fit(X_train,y_train)\n",
    "\n",
    "# Compute classifier accuracy on test set\n",
    "knn.score(X_test,y_test)"
   ]
  },
  {
   "cell_type": "markdown",
   "metadata": {},
   "source": [
    "### Experiment 3\n",
    "- Women, Part_time, and P75th are excluded from this feature set\n",
    "- Major_category_coded is used instead of one-hot encoding features"
   ]
  },
  {
   "cell_type": "code",
   "execution_count": 779,
   "metadata": {},
   "outputs": [],
   "source": [
    "# Define features to be used in training\n",
    "features = [\n",
    " 'Percent_low_wage',\n",
    " 'Percent_college',\n",
    " 'Percent_non_college',\n",
    " 'Num_majors',\n",
    " 'ShareWomen',\n",
    "#  'Women', \n",
    "#  'Part_time', \n",
    " 'Unemployment_rate',\n",
    " 'P25th',\n",
    "#  'P75th',\n",
    " 'Percent_sample_size',\n",
    " 'Major_category_coded'\n",
    "]"
   ]
  },
  {
   "cell_type": "markdown",
   "metadata": {},
   "source": [
    "Assign training and test data \n",
    "- X_train/X_test: data used to train our model (uses the features listed above)\n",
    "- y_train/y_test: data values of the variable that we're predicting (median category)"
   ]
  },
  {
   "cell_type": "code",
   "execution_count": 763,
   "metadata": {},
   "outputs": [],
   "source": [
    "X_train = train[features]\n",
    "y_train = train['Median_category_coded']\n",
    "\n",
    "X_test = test[features]\n",
    "y_test = test['Median_category_coded']"
   ]
  },
  {
   "cell_type": "markdown",
   "metadata": {},
   "source": [
    "### Manual Parameter Tuning\n",
    "- Create KNN classifiers with varying values of k (number of neighbours), ranging from 1 to 25\n",
    "- The accuracies for different values of k are compared via a plot, and the k value corresponding to the highest accuracy is selected"
   ]
  },
  {
   "cell_type": "code",
   "execution_count": 764,
   "metadata": {},
   "outputs": [],
   "source": [
    "# Initialize training and test accuracy lists\n",
    "neighbors = np.arange(1,25)\n",
    "train_accuracy = np.empty(len(neighbors))\n",
    "test_accuracy = np.empty(len(neighbors))\n",
    "\n",
    "for i,k in enumerate(neighbors):\n",
    "    # Initialize KNN classifier with k neighbors\n",
    "    knn = KNeighborsClassifier(n_neighbors=k)\n",
    "    \n",
    "    # Fit KNN model\n",
    "    knn.fit(X_train,y_train)\n",
    "    \n",
    "    # Compute training accuracy\n",
    "    train_accuracy[i] = knn.score(X_train,y_train)\n",
    "    \n",
    "    # Compute test accuracy\n",
    "    test_accuracy[i] = knn.score(X_test,y_test)"
   ]
  },
  {
   "cell_type": "code",
   "execution_count": 765,
   "metadata": {
    "scrolled": true
   },
   "outputs": [
    {
     "data": {
      "image/png": "[encoded data removed]",
      "text/plain": [
       "<Figure size 432x288 with 1 Axes>"
      ]
     },
     "metadata": {},
     "output_type": "display_data"
    }
   ],
   "source": [
    "# Plot train and test accuracies for varying k values\n",
    "plt.plot(neighbors,test_accuracy,label='Testing Accuracy')\n",
    "plt.plot(neighbors,train_accuracy,label='Training Accuracy')\n",
    "plt.legend()\n",
    "plt.xlabel('Number of neighbors')\n",
    "plt.ylabel('Accuracy')\n",
    "plt.title('KNN Varying number of neighbors')\n",
    "plt.show()"
   ]
  },
  {
   "cell_type": "markdown",
   "metadata": {},
   "source": [
    "Based on the graph above, it appears that the testing accuracy is highest when k is between 11 and 20, thus we will create a KNN classifier with 17 neighbours as this training accuracy appears higher than the aforementioned k values:"
   ]
  },
  {
   "cell_type": "code",
   "execution_count": 767,
   "metadata": {},
   "outputs": [
    {
     "data": {
      "text/plain": [
       "0.7714285714285715"
      ]
     },
     "execution_count": 767,
     "metadata": {},
     "output_type": "execute_result"
    }
   ],
   "source": [
    "# Initialize KNN classifier \n",
    "knn = KNeighborsClassifier(n_neighbors=17)\n",
    "\n",
    "# Fit KNN model\n",
    "knn.fit(X_train,y_train)\n",
    "\n",
    "# Compute classifier accuracy on test set\n",
    "knn.score(X_test,y_test)"
   ]
  },
  {
   "cell_type": "markdown",
   "metadata": {},
   "source": [
    "### Hyperparameter Tuning\n",
    "- Use GridSearchCV, a Scikit-learn library, to find the optimal value of k\n",
    "- Look at values of k within 1 and 50\n",
    "- Set cross-validation batch size to cv = 5"
   ]
  },
  {
   "cell_type": "code",
   "execution_count": 773,
   "metadata": {},
   "outputs": [
    {
     "name": "stderr",
     "output_type": "stream",
     "text": [
      "/opt/anaconda3/lib/python3.8/site-packages/sklearn/model_selection/_split.py:670: UserWarning: The least populated class in y has only 1 members, which is less than n_splits=5.\n",
      "  warnings.warn((\"The least populated class in y has only %d\"\n"
     ]
    },
    {
     "data": {
      "text/plain": [
       "GridSearchCV(cv=5, estimator=KNeighborsClassifier(),\n",
       "             param_grid={'n_neighbors': array([ 1,  2,  3,  4,  5,  6,  7,  8,  9, 10, 11, 12, 13, 14, 15, 16, 17,\n",
       "       18, 19, 20, 21, 22, 23, 24, 25, 26, 27, 28, 29, 30, 31, 32, 33, 34,\n",
       "       35, 36, 37, 38, 39, 40, 41, 42, 43, 44, 45, 46, 47, 48, 49, 50, 51,\n",
       "       52, 53, 54, 55, 56, 57, 58, 59, 60, 61, 62, 63, 64, 65, 66, 67, 68,\n",
       "       69, 70, 71, 72, 73, 74, 75, 76, 77, 78, 79, 80, 81, 82, 83, 84, 85,\n",
       "       86, 87, 88, 89, 90, 91, 92, 93, 94, 95, 96, 97, 98, 99])})"
      ]
     },
     "execution_count": 773,
     "metadata": {},
     "output_type": "execute_result"
    }
   ],
   "source": [
    "# Tune n_neighbors (k neighbours) using GridSearchCV\n",
    "#   Assess values of k between 1 and 100\n",
    "param_grid = {'n_neighbors':np.arange(1,100)}\n",
    "\n",
    "# Classify, hypertune, and train KNN \n",
    "knn = KNeighborsClassifier()\n",
    "knn_cv = GridSearchCV(knn,param_grid,cv=5)\n",
    "knn_cv.fit(X_train,y_train)"
   ]
  },
  {
   "cell_type": "markdown",
   "metadata": {},
   "source": [
    "Get best KNN score, save k parameter corresponding to the best score of all models, train and obtain accuracy of a KNN model with this k parameter:"
   ]
  },
  {
   "cell_type": "code",
   "execution_count": 774,
   "metadata": {},
   "outputs": [
    {
     "data": {
      "text/plain": [
       "0.6865079365079365"
      ]
     },
     "execution_count": 774,
     "metadata": {},
     "output_type": "execute_result"
    }
   ],
   "source": [
    "knn_cv.best_score_"
   ]
  },
  {
   "cell_type": "code",
   "execution_count": 775,
   "metadata": {},
   "outputs": [
    {
     "data": {
      "text/plain": [
       "{'n_neighbors': 11}"
      ]
     },
     "execution_count": 775,
     "metadata": {},
     "output_type": "execute_result"
    }
   ],
   "source": [
    "knn_cv.best_params_"
   ]
  },
  {
   "cell_type": "code",
   "execution_count": 776,
   "metadata": {},
   "outputs": [],
   "source": [
    "optimalK = knn_cv.best_params_['n_neighbors']"
   ]
  },
  {
   "cell_type": "markdown",
   "metadata": {},
   "source": [
    "Train KNN with optimal k value"
   ]
  },
  {
   "cell_type": "code",
   "execution_count": 777,
   "metadata": {},
   "outputs": [
    {
     "data": {
      "text/plain": [
       "0.7714285714285715"
      ]
     },
     "execution_count": 777,
     "metadata": {},
     "output_type": "execute_result"
    }
   ],
   "source": [
    "# Initialize KNN classifier \n",
    "knn = KNeighborsClassifier(n_neighbors=optimalK)\n",
    "\n",
    "# Fit KNN model\n",
    "knn.fit(X_train,y_train)\n",
    "\n",
    "# Compute classifier accuracy on test set\n",
    "knn.score(X_test,y_test)"
   ]
  }
 ],
 "metadata": {
  "kernelspec": {
   "display_name": "Python 3",
   "language": "python",
   "name": "python3"
  },
  "language_info": {
   "codemirror_mode": {
    "name": "ipython",
    "version": 3
   },
   "file_extension": ".py",
   "mimetype": "text/x-python",
   "name": "python",
   "nbconvert_exporter": "python",
   "pygments_lexer": "ipython3",
   "version": "3.8.3"
  }
 },
 "nbformat": 4,
 "nbformat_minor": 4
}
